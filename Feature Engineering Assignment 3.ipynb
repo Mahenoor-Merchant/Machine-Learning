{
 "cells": [
  {
   "cell_type": "markdown",
   "id": "f70cb428-84e2-43a4-830f-d9d6f897d226",
   "metadata": {},
   "source": [
    "# Feature Engineering Assignment "
   ]
  },
  {
   "cell_type": "markdown",
   "id": "8b79adc4-bbf3-477a-8d9f-99be23adb5cc",
   "metadata": {},
   "source": [
    "### Q1. What is data encoding? How is it useful in data science?"
   ]
  },
  {
   "cell_type": "markdown",
   "id": "5f419f1d-2671-4bbe-8bf5-5ca765cff55a",
   "metadata": {},
   "source": [
    "Data Encoding aims to convert Categorical Feature to suitable numerical feature.\n",
    "There are various types of Data Encoding :\n",
    "\n",
    "    1. Nominal / One Hot Encoding:\n",
    "    \n",
    "This is a simple encoding method where each category is assigned a unique binary value. For example, if you have a category called \"color\" with three values (red, green, and blue), you would create three new columns, one for each value. The value of each column would be 1 if the corresponding category is present and 0 if it is not.\n",
    "    \n",
    "    2. Ordinal and Label Encoding:\n",
    "    \n",
    "This is another simple encoding method where each category is assigned a unique integer value. For example, if you have a category called \"color\" with three values (red, green, and blue), you would assign the value 1 to red, 2 to green, and 3 to blue.\n",
    "    \n",
    "    3. Target Guided Encoding:\n",
    "    \n",
    "This is a more complex encoding method that takes into account the target variable. This can be useful for improving the performance of machine learning algorithms.\n",
    "    \n",
    "##### It is useful in Data Science to train a model. Model needs a Numeric value  instead of Categorical.We can use any of the Data Encoding method to convert the Categorical Feature to Numerical. "
   ]
  },
  {
   "cell_type": "markdown",
   "id": "b2139d45-2f37-4e44-b08e-ed57ad5d0dbf",
   "metadata": {},
   "source": [
    "### Q2. What is nominal encoding? Provide an example of how you would use it in a real-world scenario."
   ]
  },
  {
   "cell_type": "markdown",
   "id": "8413e67e-c521-4c51-b6e5-cc04e4c7d3e3",
   "metadata": {},
   "source": [
    "One-Hot Encoding is a type of data encoding that is used to convert categorical data into numerical data. This is done by creating a new column for each unique category in the original column. The value of each new column is 1 if the corresponding category is present and 0 if it is not.\n",
    "\n",
    "For example, if you have a column of data with the values \"red\", \"green\", and \"blue\", you would create three new columns, one for each color. The value of each new column would be 1 if the corresponding color is present in the original column and 0 if it is not.\n",
    "\n",
    "See the following example:"
   ]
  },
  {
   "cell_type": "code",
   "execution_count": 1,
   "id": "eac0fede-34f0-4d2d-9778-8b15fd4b073e",
   "metadata": {},
   "outputs": [],
   "source": [
    "import pandas as pd"
   ]
  },
  {
   "cell_type": "code",
   "execution_count": 2,
   "id": "966eeb83-b96e-4315-9966-8c93effadbd0",
   "metadata": {},
   "outputs": [],
   "source": [
    "import seaborn as sns"
   ]
  },
  {
   "cell_type": "code",
   "execution_count": 3,
   "id": "2658c571-d292-49fc-b526-f5bdae92b408",
   "metadata": {},
   "outputs": [],
   "source": [
    "df=sns.load_dataset('titanic')"
   ]
  },
  {
   "cell_type": "code",
   "execution_count": 4,
   "id": "87471768-5ac0-422d-966c-3d713d9e96aa",
   "metadata": {},
   "outputs": [
    {
     "data": {
      "text/html": [
       "<div>\n",
       "<style scoped>\n",
       "    .dataframe tbody tr th:only-of-type {\n",
       "        vertical-align: middle;\n",
       "    }\n",
       "\n",
       "    .dataframe tbody tr th {\n",
       "        vertical-align: top;\n",
       "    }\n",
       "\n",
       "    .dataframe thead th {\n",
       "        text-align: right;\n",
       "    }\n",
       "</style>\n",
       "<table border=\"1\" class=\"dataframe\">\n",
       "  <thead>\n",
       "    <tr style=\"text-align: right;\">\n",
       "      <th></th>\n",
       "      <th>survived</th>\n",
       "      <th>pclass</th>\n",
       "      <th>sex</th>\n",
       "      <th>age</th>\n",
       "      <th>sibsp</th>\n",
       "      <th>parch</th>\n",
       "      <th>fare</th>\n",
       "      <th>embarked</th>\n",
       "      <th>class</th>\n",
       "      <th>who</th>\n",
       "      <th>adult_male</th>\n",
       "      <th>deck</th>\n",
       "      <th>embark_town</th>\n",
       "      <th>alive</th>\n",
       "      <th>alone</th>\n",
       "    </tr>\n",
       "  </thead>\n",
       "  <tbody>\n",
       "    <tr>\n",
       "      <th>0</th>\n",
       "      <td>0</td>\n",
       "      <td>3</td>\n",
       "      <td>male</td>\n",
       "      <td>22.0</td>\n",
       "      <td>1</td>\n",
       "      <td>0</td>\n",
       "      <td>7.2500</td>\n",
       "      <td>S</td>\n",
       "      <td>Third</td>\n",
       "      <td>man</td>\n",
       "      <td>True</td>\n",
       "      <td>NaN</td>\n",
       "      <td>Southampton</td>\n",
       "      <td>no</td>\n",
       "      <td>False</td>\n",
       "    </tr>\n",
       "    <tr>\n",
       "      <th>1</th>\n",
       "      <td>1</td>\n",
       "      <td>1</td>\n",
       "      <td>female</td>\n",
       "      <td>38.0</td>\n",
       "      <td>1</td>\n",
       "      <td>0</td>\n",
       "      <td>71.2833</td>\n",
       "      <td>C</td>\n",
       "      <td>First</td>\n",
       "      <td>woman</td>\n",
       "      <td>False</td>\n",
       "      <td>C</td>\n",
       "      <td>Cherbourg</td>\n",
       "      <td>yes</td>\n",
       "      <td>False</td>\n",
       "    </tr>\n",
       "    <tr>\n",
       "      <th>2</th>\n",
       "      <td>1</td>\n",
       "      <td>3</td>\n",
       "      <td>female</td>\n",
       "      <td>26.0</td>\n",
       "      <td>0</td>\n",
       "      <td>0</td>\n",
       "      <td>7.9250</td>\n",
       "      <td>S</td>\n",
       "      <td>Third</td>\n",
       "      <td>woman</td>\n",
       "      <td>False</td>\n",
       "      <td>NaN</td>\n",
       "      <td>Southampton</td>\n",
       "      <td>yes</td>\n",
       "      <td>True</td>\n",
       "    </tr>\n",
       "    <tr>\n",
       "      <th>3</th>\n",
       "      <td>1</td>\n",
       "      <td>1</td>\n",
       "      <td>female</td>\n",
       "      <td>35.0</td>\n",
       "      <td>1</td>\n",
       "      <td>0</td>\n",
       "      <td>53.1000</td>\n",
       "      <td>S</td>\n",
       "      <td>First</td>\n",
       "      <td>woman</td>\n",
       "      <td>False</td>\n",
       "      <td>C</td>\n",
       "      <td>Southampton</td>\n",
       "      <td>yes</td>\n",
       "      <td>False</td>\n",
       "    </tr>\n",
       "    <tr>\n",
       "      <th>4</th>\n",
       "      <td>0</td>\n",
       "      <td>3</td>\n",
       "      <td>male</td>\n",
       "      <td>35.0</td>\n",
       "      <td>0</td>\n",
       "      <td>0</td>\n",
       "      <td>8.0500</td>\n",
       "      <td>S</td>\n",
       "      <td>Third</td>\n",
       "      <td>man</td>\n",
       "      <td>True</td>\n",
       "      <td>NaN</td>\n",
       "      <td>Southampton</td>\n",
       "      <td>no</td>\n",
       "      <td>True</td>\n",
       "    </tr>\n",
       "  </tbody>\n",
       "</table>\n",
       "</div>"
      ],
      "text/plain": [
       "   survived  pclass     sex   age  sibsp  parch     fare embarked  class  \\\n",
       "0         0       3    male  22.0      1      0   7.2500        S  Third   \n",
       "1         1       1  female  38.0      1      0  71.2833        C  First   \n",
       "2         1       3  female  26.0      0      0   7.9250        S  Third   \n",
       "3         1       1  female  35.0      1      0  53.1000        S  First   \n",
       "4         0       3    male  35.0      0      0   8.0500        S  Third   \n",
       "\n",
       "     who  adult_male deck  embark_town alive  alone  \n",
       "0    man        True  NaN  Southampton    no  False  \n",
       "1  woman       False    C    Cherbourg   yes  False  \n",
       "2  woman       False  NaN  Southampton   yes   True  \n",
       "3  woman       False    C  Southampton   yes  False  \n",
       "4    man        True  NaN  Southampton    no   True  "
      ]
     },
     "execution_count": 4,
     "metadata": {},
     "output_type": "execute_result"
    }
   ],
   "source": [
    "df.head()"
   ]
  },
  {
   "cell_type": "code",
   "execution_count": 5,
   "id": "f599ab92-e384-476a-b659-c086e325a275",
   "metadata": {},
   "outputs": [],
   "source": [
    "# Applying OHE to sex column\n",
    "from sklearn.preprocessing import OneHotEncoder\n",
    "encoder=OneHotEncoder()\n",
    "encoded=encoder.fit_transform(df[['sex']])\n",
    "\n",
    "# Creating a Data Frame\n",
    "df1=pd.DataFrame(encoded.toarray(),columns=encoder.get_feature_names_out())\n",
    "df1['sex']=df['sex']"
   ]
  },
  {
   "cell_type": "code",
   "execution_count": 6,
   "id": "d5b1fc4a-4f83-4af2-9989-8ccc62e49f78",
   "metadata": {},
   "outputs": [
    {
     "data": {
      "text/html": [
       "<div>\n",
       "<style scoped>\n",
       "    .dataframe tbody tr th:only-of-type {\n",
       "        vertical-align: middle;\n",
       "    }\n",
       "\n",
       "    .dataframe tbody tr th {\n",
       "        vertical-align: top;\n",
       "    }\n",
       "\n",
       "    .dataframe thead th {\n",
       "        text-align: right;\n",
       "    }\n",
       "</style>\n",
       "<table border=\"1\" class=\"dataframe\">\n",
       "  <thead>\n",
       "    <tr style=\"text-align: right;\">\n",
       "      <th></th>\n",
       "      <th>sex_female</th>\n",
       "      <th>sex_male</th>\n",
       "      <th>sex</th>\n",
       "    </tr>\n",
       "  </thead>\n",
       "  <tbody>\n",
       "    <tr>\n",
       "      <th>0</th>\n",
       "      <td>0.0</td>\n",
       "      <td>1.0</td>\n",
       "      <td>male</td>\n",
       "    </tr>\n",
       "    <tr>\n",
       "      <th>1</th>\n",
       "      <td>1.0</td>\n",
       "      <td>0.0</td>\n",
       "      <td>female</td>\n",
       "    </tr>\n",
       "    <tr>\n",
       "      <th>2</th>\n",
       "      <td>1.0</td>\n",
       "      <td>0.0</td>\n",
       "      <td>female</td>\n",
       "    </tr>\n",
       "    <tr>\n",
       "      <th>3</th>\n",
       "      <td>1.0</td>\n",
       "      <td>0.0</td>\n",
       "      <td>female</td>\n",
       "    </tr>\n",
       "    <tr>\n",
       "      <th>4</th>\n",
       "      <td>0.0</td>\n",
       "      <td>1.0</td>\n",
       "      <td>male</td>\n",
       "    </tr>\n",
       "  </tbody>\n",
       "</table>\n",
       "</div>"
      ],
      "text/plain": [
       "   sex_female  sex_male     sex\n",
       "0         0.0       1.0    male\n",
       "1         1.0       0.0  female\n",
       "2         1.0       0.0  female\n",
       "3         1.0       0.0  female\n",
       "4         0.0       1.0    male"
      ]
     },
     "execution_count": 6,
     "metadata": {},
     "output_type": "execute_result"
    }
   ],
   "source": [
    "df1.head()"
   ]
  },
  {
   "cell_type": "markdown",
   "id": "236f65b4-542a-4b21-9e63-606f6f77ed92",
   "metadata": {},
   "source": [
    "### Q3. In what situations is nominal encoding preferred over one-hot encoding? Provide a practical example."
   ]
  },
  {
   "cell_type": "markdown",
   "id": "f484a2ee-7623-40f3-ac5e-21df7055fd65",
   "metadata": {},
   "source": [
    "Nominal encoding, also known as label encoding, is preferred over one-hot encoding in certain situations where there is a natural order or hierarchy among the categories in the feature being encoded. One-hot encoding, on the other hand, is typically used when there is no inherent order or hierarchy among the categories."
   ]
  },
  {
   "cell_type": "code",
   "execution_count": 7,
   "id": "bf145696-555e-476a-a00e-4542d8b6fee7",
   "metadata": {},
   "outputs": [],
   "source": [
    "import seaborn as sns\n",
    "df=sns.load_dataset('geyser')"
   ]
  },
  {
   "cell_type": "code",
   "execution_count": 8,
   "id": "d9add88d-fa67-466d-9a6a-957ee2a0ba8b",
   "metadata": {},
   "outputs": [
    {
     "data": {
      "text/html": [
       "<div>\n",
       "<style scoped>\n",
       "    .dataframe tbody tr th:only-of-type {\n",
       "        vertical-align: middle;\n",
       "    }\n",
       "\n",
       "    .dataframe tbody tr th {\n",
       "        vertical-align: top;\n",
       "    }\n",
       "\n",
       "    .dataframe thead th {\n",
       "        text-align: right;\n",
       "    }\n",
       "</style>\n",
       "<table border=\"1\" class=\"dataframe\">\n",
       "  <thead>\n",
       "    <tr style=\"text-align: right;\">\n",
       "      <th></th>\n",
       "      <th>duration</th>\n",
       "      <th>waiting</th>\n",
       "      <th>kind</th>\n",
       "    </tr>\n",
       "  </thead>\n",
       "  <tbody>\n",
       "    <tr>\n",
       "      <th>0</th>\n",
       "      <td>3.600</td>\n",
       "      <td>79</td>\n",
       "      <td>long</td>\n",
       "    </tr>\n",
       "    <tr>\n",
       "      <th>1</th>\n",
       "      <td>1.800</td>\n",
       "      <td>54</td>\n",
       "      <td>short</td>\n",
       "    </tr>\n",
       "    <tr>\n",
       "      <th>2</th>\n",
       "      <td>3.333</td>\n",
       "      <td>74</td>\n",
       "      <td>long</td>\n",
       "    </tr>\n",
       "    <tr>\n",
       "      <th>3</th>\n",
       "      <td>2.283</td>\n",
       "      <td>62</td>\n",
       "      <td>short</td>\n",
       "    </tr>\n",
       "    <tr>\n",
       "      <th>4</th>\n",
       "      <td>4.533</td>\n",
       "      <td>85</td>\n",
       "      <td>long</td>\n",
       "    </tr>\n",
       "  </tbody>\n",
       "</table>\n",
       "</div>"
      ],
      "text/plain": [
       "   duration  waiting   kind\n",
       "0     3.600       79   long\n",
       "1     1.800       54  short\n",
       "2     3.333       74   long\n",
       "3     2.283       62  short\n",
       "4     4.533       85   long"
      ]
     },
     "execution_count": 8,
     "metadata": {},
     "output_type": "execute_result"
    }
   ],
   "source": [
    "df.head()"
   ]
  },
  {
   "cell_type": "code",
   "execution_count": 9,
   "id": "565c48e0-7911-4eed-936c-a637ca95af35",
   "metadata": {},
   "outputs": [
    {
     "data": {
      "text/plain": [
       "['long', 'short', 'long', 'short', 'long', ..., 'long', 'short', 'long', 'short', 'long']\n",
       "Length: 272\n",
       "Categories (2, object): ['long', 'short']"
      ]
     },
     "execution_count": 9,
     "metadata": {},
     "output_type": "execute_result"
    }
   ],
   "source": [
    "pd.Categorical(df['kind'])"
   ]
  },
  {
   "cell_type": "code",
   "execution_count": 10,
   "id": "9a05682e-5740-4101-94c8-d30ba85c8d49",
   "metadata": {},
   "outputs": [],
   "source": [
    "from sklearn.preprocessing import OrdinalEncoder\n",
    "encoder=OrdinalEncoder(categories=[['short','long']])"
   ]
  },
  {
   "cell_type": "code",
   "execution_count": 11,
   "id": "4c86fbec-b46a-4f77-a04c-58fb95c3b4bb",
   "metadata": {},
   "outputs": [],
   "source": [
    "encoded=encoder.fit_transform(df[['kind']])"
   ]
  },
  {
   "cell_type": "code",
   "execution_count": 12,
   "id": "ed75e9aa-03a3-4b2f-933c-e485b7ed513e",
   "metadata": {},
   "outputs": [],
   "source": [
    "df['encoded_kind']=encoded"
   ]
  },
  {
   "cell_type": "code",
   "execution_count": 13,
   "id": "6f7a8dd4-c219-4074-9b8c-2bfbc7a5a60b",
   "metadata": {},
   "outputs": [
    {
     "data": {
      "text/html": [
       "<div>\n",
       "<style scoped>\n",
       "    .dataframe tbody tr th:only-of-type {\n",
       "        vertical-align: middle;\n",
       "    }\n",
       "\n",
       "    .dataframe tbody tr th {\n",
       "        vertical-align: top;\n",
       "    }\n",
       "\n",
       "    .dataframe thead th {\n",
       "        text-align: right;\n",
       "    }\n",
       "</style>\n",
       "<table border=\"1\" class=\"dataframe\">\n",
       "  <thead>\n",
       "    <tr style=\"text-align: right;\">\n",
       "      <th></th>\n",
       "      <th>duration</th>\n",
       "      <th>waiting</th>\n",
       "      <th>kind</th>\n",
       "      <th>encoded_kind</th>\n",
       "    </tr>\n",
       "  </thead>\n",
       "  <tbody>\n",
       "    <tr>\n",
       "      <th>0</th>\n",
       "      <td>3.600</td>\n",
       "      <td>79</td>\n",
       "      <td>long</td>\n",
       "      <td>1.0</td>\n",
       "    </tr>\n",
       "    <tr>\n",
       "      <th>1</th>\n",
       "      <td>1.800</td>\n",
       "      <td>54</td>\n",
       "      <td>short</td>\n",
       "      <td>0.0</td>\n",
       "    </tr>\n",
       "    <tr>\n",
       "      <th>2</th>\n",
       "      <td>3.333</td>\n",
       "      <td>74</td>\n",
       "      <td>long</td>\n",
       "      <td>1.0</td>\n",
       "    </tr>\n",
       "    <tr>\n",
       "      <th>3</th>\n",
       "      <td>2.283</td>\n",
       "      <td>62</td>\n",
       "      <td>short</td>\n",
       "      <td>0.0</td>\n",
       "    </tr>\n",
       "    <tr>\n",
       "      <th>4</th>\n",
       "      <td>4.533</td>\n",
       "      <td>85</td>\n",
       "      <td>long</td>\n",
       "      <td>1.0</td>\n",
       "    </tr>\n",
       "  </tbody>\n",
       "</table>\n",
       "</div>"
      ],
      "text/plain": [
       "   duration  waiting   kind  encoded_kind\n",
       "0     3.600       79   long           1.0\n",
       "1     1.800       54  short           0.0\n",
       "2     3.333       74   long           1.0\n",
       "3     2.283       62  short           0.0\n",
       "4     4.533       85   long           1.0"
      ]
     },
     "execution_count": 13,
     "metadata": {},
     "output_type": "execute_result"
    }
   ],
   "source": [
    "df.head()"
   ]
  },
  {
   "cell_type": "markdown",
   "id": "a673655b-2134-4b2a-96d2-2ff509b9c3e4",
   "metadata": {},
   "source": [
    "### Q4. Suppose you have a dataset containing categorical data with 5 unique values. Which encoding technique would you use to transform this data into a format suitable for machine learning algorithms?  Explain why you made this choice."
   ]
  },
  {
   "cell_type": "markdown",
   "id": "4cbcc0fb-0943-4ad5-adb7-8acfaf5c475e",
   "metadata": {},
   "source": [
    "If I had a dataset with 5 unique variables and I were to transform the data for Machine Learning Algorithm, I would choose One Hot Encoding. \n",
    "\n",
    "The reason for choosing one-hot encoding in this case is that it effectively represents the categorical information without imposing any ordinal relationship between the categories. Each category is transformed into a separate binary column, ensuring that the machine learning algorithm treats them as distinct and unrelated values.\n",
    "\n",
    "By using one-hot encoding, we avoid assigning any numerical order or magnitude to the categorical values. This is crucial because assigning arbitrary values (e.g., 1, 2, 3) to the categories would imply an incorrect ordinal relationship. One-hot encoding provides a clear representation of categorical data that avoids any assumptions about the underlying meaning of the categories."
   ]
  },
  {
   "cell_type": "markdown",
   "id": "5e459a8a-71a0-4bb9-b7e4-514a49c28424",
   "metadata": {},
   "source": [
    "### Q5. In a machine learning project, you have a dataset with 1000 rows and 5 columns. Two of the columns are categorical, and the remaining three columns are numerical. If you were to use nominal encoding to transform the categorical data, how many new columns would be created? Show your calculations."
   ]
  },
  {
   "cell_type": "markdown",
   "id": "0c659d1b-965d-41a5-9cb4-76eb60f4d805",
   "metadata": {},
   "source": [
    "1000 rows and 5 columns.\n",
    "2 columns are for Categorical Data.\n",
    "\n",
    "for such a dataset, if I use Nominal Encoding...\n",
    "\n",
    "Assuming that One Column of Categorical data has 2 unique Categories.\n",
    "While, the Second Column of Categorical data has 5 unique Categories.\n",
    "\n",
    "then 2 + 7 = 9 new columns will be created."
   ]
  },
  {
   "cell_type": "markdown",
   "id": "4924b26f-82d3-4a16-a43e-a893cb82fdd9",
   "metadata": {},
   "source": [
    "### Q6. You are working with a dataset containing information about different types of animals, including their species, habitat, and diet. Which encoding technique would you use to transform the categorical data into a format suitable for machine learning algorithms? Justify your answer."
   ]
  },
  {
   "cell_type": "markdown",
   "id": "cd8fe9b7-a5d0-4578-a276-f3fccba8674a",
   "metadata": {},
   "source": [
    "To transform the categorical data in the animal dataset into a format suitable for machine learning algorithms, one suitable encoding technique would be one-hot encoding. \n",
    "In the animal dataset, we have categorical columns such as \"Species\", \"Habitat\", and \"Diet\". One-hot encoding would be appropriate in this case for the following reasons:\n",
    "\n",
    "* The \"Species\", \"Habitat\", and \"Diet\" columns contain categorical data, where each value represents a distinct category or group. One-hot encoding is commonly used for categorical data since it allows us to represent each category as a separate binary column.\n",
    "\n",
    "* One-hot encoding is particularly useful when dealing with categorical data where there is no inherent ordinal relationship between categories. For example, in the \"Species\" column, there is no inherent order between Lion, Tiger, Giraffe, Penguin, and Elephant. One-hot encoding ensures that the algorithm does not incorrectly assume any ordinal relationship between the categories.\n",
    "\n",
    "* One-hot encoding provides a numerical representation of categorical data that can be effectively utilized by machine learning algorithms. It enables algorithms to perform calculations, comparisons, and analyses on the categorical features. By converting the categorical data into numerical binary columns, one-hot encoding allows algorithms to process the information as input.\n",
    "\n",
    "\n",
    "By applying one-hot encoding to the animal dataset, we create a suitable format for machine learning algorithms to process and utilize the categorical data effectively, enabling them to learn patterns and make predictions based on the encoded features."
   ]
  },
  {
   "cell_type": "markdown",
   "id": "9c1f6b81-740e-4b57-b3b8-8d67b566b0e9",
   "metadata": {},
   "source": [
    "### Q7.You are working on a project that involves predicting customer churn for a telecommunications company. You have a dataset with 5 features, including the customer's gender, age, contract type, monthly charges, and tenure. Which encoding technique(s) would you use to transform the categorical data into numerical data? Provide a step-by-step explanation of how you would implement the encoding."
   ]
  },
  {
   "cell_type": "markdown",
   "id": "692ae56f-1e7b-4d6e-bb29-6c2979d89e0a",
   "metadata": {},
   "source": [
    "From the given information I can conclude that there are 2 Categorical Features in the dataset. ie. Gender and Contract Type\n",
    "\n",
    "For Both of them, One Hot Encoding can be used.\n",
    "Because, One-hot encoding is suitable when there is no ordinal relationship between categories, and each category should be treated as distinct and unrelated. This encoding technique ensures that the machine learning algorithm does not interpret any false ordinal relationship among the contract types."
   ]
  },
  {
   "cell_type": "code",
   "execution_count": 14,
   "id": "1d5a6b81-68c5-48b4-833d-2ae9f311b11d",
   "metadata": {},
   "outputs": [],
   "source": [
    "import pandas as pd\n",
    "telecom_data = pd.DataFrame({'Contract Type': ['Postpaid', 'Prepaid', 'Fixed-Term', 'No-Contract', 'Family','Prepaid'],\"Gender\": ['Male','Female']*3})"
   ]
  },
  {
   "cell_type": "code",
   "execution_count": 15,
   "id": "6a5ed9fe-d6d3-48e7-b6c5-ef83c0c9f4ab",
   "metadata": {},
   "outputs": [
    {
     "data": {
      "text/html": [
       "<div>\n",
       "<style scoped>\n",
       "    .dataframe tbody tr th:only-of-type {\n",
       "        vertical-align: middle;\n",
       "    }\n",
       "\n",
       "    .dataframe tbody tr th {\n",
       "        vertical-align: top;\n",
       "    }\n",
       "\n",
       "    .dataframe thead th {\n",
       "        text-align: right;\n",
       "    }\n",
       "</style>\n",
       "<table border=\"1\" class=\"dataframe\">\n",
       "  <thead>\n",
       "    <tr style=\"text-align: right;\">\n",
       "      <th></th>\n",
       "      <th>Contract Type</th>\n",
       "      <th>Gender</th>\n",
       "    </tr>\n",
       "  </thead>\n",
       "  <tbody>\n",
       "    <tr>\n",
       "      <th>0</th>\n",
       "      <td>Postpaid</td>\n",
       "      <td>Male</td>\n",
       "    </tr>\n",
       "    <tr>\n",
       "      <th>1</th>\n",
       "      <td>Prepaid</td>\n",
       "      <td>Female</td>\n",
       "    </tr>\n",
       "    <tr>\n",
       "      <th>2</th>\n",
       "      <td>Fixed-Term</td>\n",
       "      <td>Male</td>\n",
       "    </tr>\n",
       "    <tr>\n",
       "      <th>3</th>\n",
       "      <td>No-Contract</td>\n",
       "      <td>Female</td>\n",
       "    </tr>\n",
       "    <tr>\n",
       "      <th>4</th>\n",
       "      <td>Family</td>\n",
       "      <td>Male</td>\n",
       "    </tr>\n",
       "  </tbody>\n",
       "</table>\n",
       "</div>"
      ],
      "text/plain": [
       "  Contract Type  Gender\n",
       "0      Postpaid    Male\n",
       "1       Prepaid  Female\n",
       "2    Fixed-Term    Male\n",
       "3   No-Contract  Female\n",
       "4        Family    Male"
      ]
     },
     "execution_count": 15,
     "metadata": {},
     "output_type": "execute_result"
    }
   ],
   "source": [
    "telecom_data.head()"
   ]
  },
  {
   "cell_type": "code",
   "execution_count": 16,
   "id": "d24c1536-396f-40fc-89a0-a8d69845114d",
   "metadata": {},
   "outputs": [],
   "source": [
    "from sklearn.preprocessing import OneHotEncoder\n",
    "encoder = OneHotEncoder()\n",
    "encoded = encoder.fit_transform(telecom_data[['Contract Type','Gender']])"
   ]
  },
  {
   "cell_type": "code",
   "execution_count": 17,
   "id": "c63c3787-7589-4017-8ff0-3d450e768d30",
   "metadata": {},
   "outputs": [],
   "source": [
    "df=pd.DataFrame(encoded.toarray(),columns=encoder.get_feature_names_out())"
   ]
  },
  {
   "cell_type": "code",
   "execution_count": 18,
   "id": "27913664-171c-428f-8d5c-81f9962d71b1",
   "metadata": {},
   "outputs": [
    {
     "name": "stdout",
     "output_type": "stream",
     "text": [
      "  Contract Type  Gender  Contract Type_Family  Contract Type_Fixed-Term  \\\n",
      "0      Postpaid    Male                   0.0                       0.0   \n",
      "1       Prepaid  Female                   0.0                       0.0   \n",
      "2    Fixed-Term    Male                   0.0                       1.0   \n",
      "3   No-Contract  Female                   0.0                       0.0   \n",
      "4        Family    Male                   1.0                       0.0   \n",
      "5       Prepaid  Female                   0.0                       0.0   \n",
      "\n",
      "   Contract Type_No-Contract  Contract Type_Postpaid  Contract Type_Prepaid  \\\n",
      "0                        0.0                     1.0                    0.0   \n",
      "1                        0.0                     0.0                    1.0   \n",
      "2                        0.0                     0.0                    0.0   \n",
      "3                        1.0                     0.0                    0.0   \n",
      "4                        0.0                     0.0                    0.0   \n",
      "5                        0.0                     0.0                    1.0   \n",
      "\n",
      "   Gender_Female  Gender_Male  \n",
      "0            0.0          1.0  \n",
      "1            1.0          0.0  \n",
      "2            0.0          1.0  \n",
      "3            1.0          0.0  \n",
      "4            0.0          1.0  \n",
      "5            1.0          0.0  \n"
     ]
    }
   ],
   "source": [
    "print(pd.concat([telecom_data,df],axis=1))"
   ]
  },
  {
   "cell_type": "markdown",
   "id": "4cb8e13f-0411-4aa0-8f17-f8aafd44c776",
   "metadata": {},
   "source": [
    "## The End"
   ]
  }
 ],
 "metadata": {
  "kernelspec": {
   "display_name": "Python 3 (ipykernel)",
   "language": "python",
   "name": "python3"
  },
  "language_info": {
   "codemirror_mode": {
    "name": "ipython",
    "version": 3
   },
   "file_extension": ".py",
   "mimetype": "text/x-python",
   "name": "python",
   "nbconvert_exporter": "python",
   "pygments_lexer": "ipython3",
   "version": "3.10.8"
  }
 },
 "nbformat": 4,
 "nbformat_minor": 5
}
