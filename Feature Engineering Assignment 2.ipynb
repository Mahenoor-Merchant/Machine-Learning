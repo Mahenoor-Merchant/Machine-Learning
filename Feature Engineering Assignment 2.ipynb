{
 "cells": [
  {
   "cell_type": "markdown",
   "id": "8b5a616d-26a6-48df-aa76-d684c02166d8",
   "metadata": {},
   "source": [
    "# Feature Engineering Assignment "
   ]
  },
  {
   "cell_type": "markdown",
   "id": "23d0f7d9-8c2b-44cd-b63d-bc036199b014",
   "metadata": {},
   "source": [
    "### Q1. What is Min-Max scaling, and how is it used in data preprocessing? Provide an example to illustrate its application."
   ]
  },
  {
   "cell_type": "markdown",
   "id": "25a33cba-0369-4982-8001-b8b305e8a540",
   "metadata": {},
   "source": [
    "Min Max Scaling is used in Deep Learning to Process data to range between [0 to 1].\n",
    "Formula of min-max scaling --> **x scaled = (xi-x_min) / (x_max-x_min)**\n",
    "\n",
    "We can use the sklearn library too."
   ]
  },
  {
   "cell_type": "code",
   "execution_count": 1,
   "id": "42fbebb9-e42e-43ef-b6e9-bfa524f5c0a8",
   "metadata": {},
   "outputs": [],
   "source": [
    "import pandas as pd"
   ]
  },
  {
   "cell_type": "code",
   "execution_count": 2,
   "id": "75325eda-7ab0-4266-98b1-24eb8ab412e9",
   "metadata": {},
   "outputs": [],
   "source": [
    "import seaborn as sns"
   ]
  },
  {
   "cell_type": "code",
   "execution_count": 3,
   "id": "3b8a71cf-bf50-4fe2-87aa-4a98be48b04a",
   "metadata": {},
   "outputs": [],
   "source": [
    "df = sns.load_dataset('taxis')"
   ]
  },
  {
   "cell_type": "code",
   "execution_count": 4,
   "id": "f2e50eb8-0275-4076-b74b-470ece9279ee",
   "metadata": {},
   "outputs": [
    {
     "data": {
      "text/html": [
       "<div>\n",
       "<style scoped>\n",
       "    .dataframe tbody tr th:only-of-type {\n",
       "        vertical-align: middle;\n",
       "    }\n",
       "\n",
       "    .dataframe tbody tr th {\n",
       "        vertical-align: top;\n",
       "    }\n",
       "\n",
       "    .dataframe thead th {\n",
       "        text-align: right;\n",
       "    }\n",
       "</style>\n",
       "<table border=\"1\" class=\"dataframe\">\n",
       "  <thead>\n",
       "    <tr style=\"text-align: right;\">\n",
       "      <th></th>\n",
       "      <th>pickup</th>\n",
       "      <th>dropoff</th>\n",
       "      <th>passengers</th>\n",
       "      <th>distance</th>\n",
       "      <th>fare</th>\n",
       "      <th>tip</th>\n",
       "      <th>tolls</th>\n",
       "      <th>total</th>\n",
       "      <th>color</th>\n",
       "      <th>payment</th>\n",
       "      <th>pickup_zone</th>\n",
       "      <th>dropoff_zone</th>\n",
       "      <th>pickup_borough</th>\n",
       "      <th>dropoff_borough</th>\n",
       "    </tr>\n",
       "  </thead>\n",
       "  <tbody>\n",
       "    <tr>\n",
       "      <th>0</th>\n",
       "      <td>2019-03-23 20:21:09</td>\n",
       "      <td>2019-03-23 20:27:24</td>\n",
       "      <td>1</td>\n",
       "      <td>1.60</td>\n",
       "      <td>7.0</td>\n",
       "      <td>2.15</td>\n",
       "      <td>0.0</td>\n",
       "      <td>12.95</td>\n",
       "      <td>yellow</td>\n",
       "      <td>credit card</td>\n",
       "      <td>Lenox Hill West</td>\n",
       "      <td>UN/Turtle Bay South</td>\n",
       "      <td>Manhattan</td>\n",
       "      <td>Manhattan</td>\n",
       "    </tr>\n",
       "    <tr>\n",
       "      <th>1</th>\n",
       "      <td>2019-03-04 16:11:55</td>\n",
       "      <td>2019-03-04 16:19:00</td>\n",
       "      <td>1</td>\n",
       "      <td>0.79</td>\n",
       "      <td>5.0</td>\n",
       "      <td>0.00</td>\n",
       "      <td>0.0</td>\n",
       "      <td>9.30</td>\n",
       "      <td>yellow</td>\n",
       "      <td>cash</td>\n",
       "      <td>Upper West Side South</td>\n",
       "      <td>Upper West Side South</td>\n",
       "      <td>Manhattan</td>\n",
       "      <td>Manhattan</td>\n",
       "    </tr>\n",
       "    <tr>\n",
       "      <th>2</th>\n",
       "      <td>2019-03-27 17:53:01</td>\n",
       "      <td>2019-03-27 18:00:25</td>\n",
       "      <td>1</td>\n",
       "      <td>1.37</td>\n",
       "      <td>7.5</td>\n",
       "      <td>2.36</td>\n",
       "      <td>0.0</td>\n",
       "      <td>14.16</td>\n",
       "      <td>yellow</td>\n",
       "      <td>credit card</td>\n",
       "      <td>Alphabet City</td>\n",
       "      <td>West Village</td>\n",
       "      <td>Manhattan</td>\n",
       "      <td>Manhattan</td>\n",
       "    </tr>\n",
       "    <tr>\n",
       "      <th>3</th>\n",
       "      <td>2019-03-10 01:23:59</td>\n",
       "      <td>2019-03-10 01:49:51</td>\n",
       "      <td>1</td>\n",
       "      <td>7.70</td>\n",
       "      <td>27.0</td>\n",
       "      <td>6.15</td>\n",
       "      <td>0.0</td>\n",
       "      <td>36.95</td>\n",
       "      <td>yellow</td>\n",
       "      <td>credit card</td>\n",
       "      <td>Hudson Sq</td>\n",
       "      <td>Yorkville West</td>\n",
       "      <td>Manhattan</td>\n",
       "      <td>Manhattan</td>\n",
       "    </tr>\n",
       "    <tr>\n",
       "      <th>4</th>\n",
       "      <td>2019-03-30 13:27:42</td>\n",
       "      <td>2019-03-30 13:37:14</td>\n",
       "      <td>3</td>\n",
       "      <td>2.16</td>\n",
       "      <td>9.0</td>\n",
       "      <td>1.10</td>\n",
       "      <td>0.0</td>\n",
       "      <td>13.40</td>\n",
       "      <td>yellow</td>\n",
       "      <td>credit card</td>\n",
       "      <td>Midtown East</td>\n",
       "      <td>Yorkville West</td>\n",
       "      <td>Manhattan</td>\n",
       "      <td>Manhattan</td>\n",
       "    </tr>\n",
       "  </tbody>\n",
       "</table>\n",
       "</div>"
      ],
      "text/plain": [
       "               pickup             dropoff  passengers  distance  fare   tip  \\\n",
       "0 2019-03-23 20:21:09 2019-03-23 20:27:24           1      1.60   7.0  2.15   \n",
       "1 2019-03-04 16:11:55 2019-03-04 16:19:00           1      0.79   5.0  0.00   \n",
       "2 2019-03-27 17:53:01 2019-03-27 18:00:25           1      1.37   7.5  2.36   \n",
       "3 2019-03-10 01:23:59 2019-03-10 01:49:51           1      7.70  27.0  6.15   \n",
       "4 2019-03-30 13:27:42 2019-03-30 13:37:14           3      2.16   9.0  1.10   \n",
       "\n",
       "   tolls  total   color      payment            pickup_zone  \\\n",
       "0    0.0  12.95  yellow  credit card        Lenox Hill West   \n",
       "1    0.0   9.30  yellow         cash  Upper West Side South   \n",
       "2    0.0  14.16  yellow  credit card          Alphabet City   \n",
       "3    0.0  36.95  yellow  credit card              Hudson Sq   \n",
       "4    0.0  13.40  yellow  credit card           Midtown East   \n",
       "\n",
       "            dropoff_zone pickup_borough dropoff_borough  \n",
       "0    UN/Turtle Bay South      Manhattan       Manhattan  \n",
       "1  Upper West Side South      Manhattan       Manhattan  \n",
       "2           West Village      Manhattan       Manhattan  \n",
       "3         Yorkville West      Manhattan       Manhattan  \n",
       "4         Yorkville West      Manhattan       Manhattan  "
      ]
     },
     "execution_count": 4,
     "metadata": {},
     "output_type": "execute_result"
    }
   ],
   "source": [
    "df.head()"
   ]
  },
  {
   "cell_type": "code",
   "execution_count": 5,
   "id": "5f82f72a-a92d-4eba-9353-88f433375481",
   "metadata": {},
   "outputs": [
    {
     "data": {
      "text/plain": [
       "Index(['pickup', 'dropoff', 'passengers', 'distance', 'fare', 'tip', 'tolls',\n",
       "       'total', 'color', 'payment', 'pickup_zone', 'dropoff_zone',\n",
       "       'pickup_borough', 'dropoff_borough'],\n",
       "      dtype='object')"
      ]
     },
     "execution_count": 5,
     "metadata": {},
     "output_type": "execute_result"
    }
   ],
   "source": [
    "df.columns"
   ]
  },
  {
   "cell_type": "code",
   "execution_count": 6,
   "id": "80bc62de-2f41-4a50-84a2-70743910166f",
   "metadata": {},
   "outputs": [],
   "source": [
    "from sklearn.preprocessing import MinMaxScaler"
   ]
  },
  {
   "cell_type": "code",
   "execution_count": 7,
   "id": "373a5883-2938-47c7-acab-55eaacef5f22",
   "metadata": {},
   "outputs": [],
   "source": [
    "scaler = MinMaxScaler()"
   ]
  },
  {
   "cell_type": "code",
   "execution_count": 8,
   "id": "b2047392-bb19-484d-a7a0-5d8e04265f89",
   "metadata": {},
   "outputs": [],
   "source": [
    "min_max=scaler.fit_transform(df[[ 'fare', 'tip','total']])"
   ]
  },
  {
   "cell_type": "code",
   "execution_count": 9,
   "id": "bb19e625-a464-418f-b02c-2fc2f5ed5598",
   "metadata": {},
   "outputs": [],
   "source": [
    "df2=pd.DataFrame(min_max,columns=\"norm_\" + scaler.get_feature_names_out())"
   ]
  },
  {
   "cell_type": "code",
   "execution_count": 10,
   "id": "9d0c8b85-f9d3-4e47-9375-e52ea907790a",
   "metadata": {},
   "outputs": [
    {
     "data": {
      "text/html": [
       "<div>\n",
       "<style scoped>\n",
       "    .dataframe tbody tr th:only-of-type {\n",
       "        vertical-align: middle;\n",
       "    }\n",
       "\n",
       "    .dataframe tbody tr th {\n",
       "        vertical-align: top;\n",
       "    }\n",
       "\n",
       "    .dataframe thead th {\n",
       "        text-align: right;\n",
       "    }\n",
       "</style>\n",
       "<table border=\"1\" class=\"dataframe\">\n",
       "  <thead>\n",
       "    <tr style=\"text-align: right;\">\n",
       "      <th></th>\n",
       "      <th>norm_fare</th>\n",
       "      <th>norm_tip</th>\n",
       "      <th>norm_total</th>\n",
       "    </tr>\n",
       "  </thead>\n",
       "  <tbody>\n",
       "    <tr>\n",
       "      <th>0</th>\n",
       "      <td>0.040268</td>\n",
       "      <td>0.064759</td>\n",
       "      <td>0.067139</td>\n",
       "    </tr>\n",
       "    <tr>\n",
       "      <th>1</th>\n",
       "      <td>0.026846</td>\n",
       "      <td>0.000000</td>\n",
       "      <td>0.046104</td>\n",
       "    </tr>\n",
       "    <tr>\n",
       "      <th>2</th>\n",
       "      <td>0.043624</td>\n",
       "      <td>0.071084</td>\n",
       "      <td>0.074112</td>\n",
       "    </tr>\n",
       "    <tr>\n",
       "      <th>3</th>\n",
       "      <td>0.174497</td>\n",
       "      <td>0.185241</td>\n",
       "      <td>0.205452</td>\n",
       "    </tr>\n",
       "    <tr>\n",
       "      <th>4</th>\n",
       "      <td>0.053691</td>\n",
       "      <td>0.033133</td>\n",
       "      <td>0.069733</td>\n",
       "    </tr>\n",
       "  </tbody>\n",
       "</table>\n",
       "</div>"
      ],
      "text/plain": [
       "   norm_fare  norm_tip  norm_total\n",
       "0   0.040268  0.064759    0.067139\n",
       "1   0.026846  0.000000    0.046104\n",
       "2   0.043624  0.071084    0.074112\n",
       "3   0.174497  0.185241    0.205452\n",
       "4   0.053691  0.033133    0.069733"
      ]
     },
     "execution_count": 10,
     "metadata": {},
     "output_type": "execute_result"
    }
   ],
   "source": [
    "df2.head()"
   ]
  },
  {
   "cell_type": "code",
   "execution_count": 11,
   "id": "642390a0-4324-490a-9306-748a09fc7bb1",
   "metadata": {},
   "outputs": [],
   "source": [
    "df3=pd.concat([df,df2],axis=1)"
   ]
  },
  {
   "cell_type": "code",
   "execution_count": 12,
   "id": "3831bf71-15bf-43e0-a136-ad975ac81606",
   "metadata": {},
   "outputs": [
    {
     "name": "stdout",
     "output_type": "stream",
     "text": [
      "               pickup             dropoff  passengers  distance  fare   tip  \\\n",
      "0 2019-03-23 20:21:09 2019-03-23 20:27:24           1      1.60   7.0  2.15   \n",
      "1 2019-03-04 16:11:55 2019-03-04 16:19:00           1      0.79   5.0  0.00   \n",
      "2 2019-03-27 17:53:01 2019-03-27 18:00:25           1      1.37   7.5  2.36   \n",
      "3 2019-03-10 01:23:59 2019-03-10 01:49:51           1      7.70  27.0  6.15   \n",
      "4 2019-03-30 13:27:42 2019-03-30 13:37:14           3      2.16   9.0  1.10   \n",
      "\n",
      "   tolls  total   color      payment            pickup_zone  \\\n",
      "0    0.0  12.95  yellow  credit card        Lenox Hill West   \n",
      "1    0.0   9.30  yellow         cash  Upper West Side South   \n",
      "2    0.0  14.16  yellow  credit card          Alphabet City   \n",
      "3    0.0  36.95  yellow  credit card              Hudson Sq   \n",
      "4    0.0  13.40  yellow  credit card           Midtown East   \n",
      "\n",
      "            dropoff_zone pickup_borough dropoff_borough  norm_fare  norm_tip  \\\n",
      "0    UN/Turtle Bay South      Manhattan       Manhattan   0.040268  0.064759   \n",
      "1  Upper West Side South      Manhattan       Manhattan   0.026846  0.000000   \n",
      "2           West Village      Manhattan       Manhattan   0.043624  0.071084   \n",
      "3         Yorkville West      Manhattan       Manhattan   0.174497  0.185241   \n",
      "4         Yorkville West      Manhattan       Manhattan   0.053691  0.033133   \n",
      "\n",
      "   norm_total  \n",
      "0    0.067139  \n",
      "1    0.046104  \n",
      "2    0.074112  \n",
      "3    0.205452  \n",
      "4    0.069733  \n"
     ]
    }
   ],
   "source": [
    "print(df3.head())"
   ]
  },
  {
   "cell_type": "markdown",
   "id": "0fce5bcd-7497-45e2-98a4-3edcbe347b9c",
   "metadata": {},
   "source": [
    "### Q2. What is the Unit Vector technique in feature scaling, and how does it differ from Min-Max scaling? Provide an example to illustrate its application."
   ]
  },
  {
   "cell_type": "markdown",
   "id": "a019f782-8ae4-4f8e-b86f-120b5439f0e5",
   "metadata": {},
   "source": [
    "Normalization is the process of scaling individual samples to have unit norm.Unit vector scaling is a technique for normalizing features in a dataset so that they all have a unit length. This is done by dividing each feature by its Euclidean length. The Euclidean length of a feature vector is the square root of the sum of the squares of its components.\n",
    "\n",
    "Min-max scaling is another technique for normalizing features in a dataset. This is done by subtracting the minimum value of each feature from all of its values and then dividing by the range of the feature. The range of a feature is the difference between its maximum and minimum values.\n",
    "\n",
    "Sure. Here is a table that shows the difference between unit vector scaling and min-max scaling:\n",
    "\n",
    "| Feature | Unit Vector Scaling | Min-Max Scaling |\n",
    "|---|---|---|\n",
    "| Purpose | Normalizes features so that they all have a unit length | Normalizes features so that they all have a range of 1 |\n",
    "| Formula | $x' = \\frac{x}{\\|x\\|}$ | $x' = \\frac{x - min(x)}{max(x) - min(x)}$ |\n",
    "| Advantages | More appropriate for machine learning algorithms that rely on distance calculations | More appropriate for machine learning algorithms that rely on linear models |\n",
    "| Disadvantages | Does not change the relative scale of the features | Can make features with large ranges more influential than features with small ranges |\n"
   ]
  },
  {
   "cell_type": "code",
   "execution_count": 13,
   "id": "14d321c8-3182-4beb-9003-e412664babaa",
   "metadata": {},
   "outputs": [],
   "source": [
    "from sklearn.preprocessing import normalize"
   ]
  },
  {
   "cell_type": "code",
   "execution_count": 14,
   "id": "4e8d63f4-9b65-422e-ad79-c223d209b42f",
   "metadata": {},
   "outputs": [],
   "source": [
    "df=sns.load_dataset('iris')"
   ]
  },
  {
   "cell_type": "code",
   "execution_count": 15,
   "id": "1636fa28-8825-4ac9-8e48-a78a2b30dac4",
   "metadata": {},
   "outputs": [
    {
     "data": {
      "text/html": [
       "<div>\n",
       "<style scoped>\n",
       "    .dataframe tbody tr th:only-of-type {\n",
       "        vertical-align: middle;\n",
       "    }\n",
       "\n",
       "    .dataframe tbody tr th {\n",
       "        vertical-align: top;\n",
       "    }\n",
       "\n",
       "    .dataframe thead th {\n",
       "        text-align: right;\n",
       "    }\n",
       "</style>\n",
       "<table border=\"1\" class=\"dataframe\">\n",
       "  <thead>\n",
       "    <tr style=\"text-align: right;\">\n",
       "      <th></th>\n",
       "      <th>sepal_length</th>\n",
       "      <th>sepal_width</th>\n",
       "      <th>petal_length</th>\n",
       "      <th>petal_width</th>\n",
       "      <th>species</th>\n",
       "    </tr>\n",
       "  </thead>\n",
       "  <tbody>\n",
       "    <tr>\n",
       "      <th>0</th>\n",
       "      <td>5.1</td>\n",
       "      <td>3.5</td>\n",
       "      <td>1.4</td>\n",
       "      <td>0.2</td>\n",
       "      <td>setosa</td>\n",
       "    </tr>\n",
       "    <tr>\n",
       "      <th>1</th>\n",
       "      <td>4.9</td>\n",
       "      <td>3.0</td>\n",
       "      <td>1.4</td>\n",
       "      <td>0.2</td>\n",
       "      <td>setosa</td>\n",
       "    </tr>\n",
       "    <tr>\n",
       "      <th>2</th>\n",
       "      <td>4.7</td>\n",
       "      <td>3.2</td>\n",
       "      <td>1.3</td>\n",
       "      <td>0.2</td>\n",
       "      <td>setosa</td>\n",
       "    </tr>\n",
       "    <tr>\n",
       "      <th>3</th>\n",
       "      <td>4.6</td>\n",
       "      <td>3.1</td>\n",
       "      <td>1.5</td>\n",
       "      <td>0.2</td>\n",
       "      <td>setosa</td>\n",
       "    </tr>\n",
       "    <tr>\n",
       "      <th>4</th>\n",
       "      <td>5.0</td>\n",
       "      <td>3.6</td>\n",
       "      <td>1.4</td>\n",
       "      <td>0.2</td>\n",
       "      <td>setosa</td>\n",
       "    </tr>\n",
       "  </tbody>\n",
       "</table>\n",
       "</div>"
      ],
      "text/plain": [
       "   sepal_length  sepal_width  petal_length  petal_width species\n",
       "0           5.1          3.5           1.4          0.2  setosa\n",
       "1           4.9          3.0           1.4          0.2  setosa\n",
       "2           4.7          3.2           1.3          0.2  setosa\n",
       "3           4.6          3.1           1.5          0.2  setosa\n",
       "4           5.0          3.6           1.4          0.2  setosa"
      ]
     },
     "execution_count": 15,
     "metadata": {},
     "output_type": "execute_result"
    }
   ],
   "source": [
    "df.head()"
   ]
  },
  {
   "cell_type": "code",
   "execution_count": 16,
   "id": "11ceebb0-5122-4557-ace3-70a1a8efeae2",
   "metadata": {},
   "outputs": [
    {
     "data": {
      "text/plain": [
       "Index(['sepal_length', 'sepal_width', 'petal_length', 'petal_width',\n",
       "       'species'],\n",
       "      dtype='object')"
      ]
     },
     "execution_count": 16,
     "metadata": {},
     "output_type": "execute_result"
    }
   ],
   "source": [
    "df.columns"
   ]
  },
  {
   "cell_type": "code",
   "execution_count": 17,
   "id": "1b59fd3d-31fc-4d23-9fb9-1305c5a98a2d",
   "metadata": {},
   "outputs": [],
   "source": [
    "scaler = normalize(df[['sepal_length', 'sepal_width', 'petal_length', 'petal_width']])"
   ]
  },
  {
   "cell_type": "code",
   "execution_count": 18,
   "id": "bf52bd44-4d89-4bc7-9502-651b424cd754",
   "metadata": {},
   "outputs": [],
   "source": [
    "df2 = pd.DataFrame(scaler,columns=['sepal_length', 'sepal_width', 'petal_length', 'petal_width'])"
   ]
  },
  {
   "cell_type": "code",
   "execution_count": 19,
   "id": "b0b07928-f16c-46b7-bd78-967a69c4a964",
   "metadata": {},
   "outputs": [
    {
     "data": {
      "text/html": [
       "<div>\n",
       "<style scoped>\n",
       "    .dataframe tbody tr th:only-of-type {\n",
       "        vertical-align: middle;\n",
       "    }\n",
       "\n",
       "    .dataframe tbody tr th {\n",
       "        vertical-align: top;\n",
       "    }\n",
       "\n",
       "    .dataframe thead th {\n",
       "        text-align: right;\n",
       "    }\n",
       "</style>\n",
       "<table border=\"1\" class=\"dataframe\">\n",
       "  <thead>\n",
       "    <tr style=\"text-align: right;\">\n",
       "      <th></th>\n",
       "      <th>sepal_length</th>\n",
       "      <th>sepal_width</th>\n",
       "      <th>petal_length</th>\n",
       "      <th>petal_width</th>\n",
       "    </tr>\n",
       "  </thead>\n",
       "  <tbody>\n",
       "    <tr>\n",
       "      <th>0</th>\n",
       "      <td>0.803773</td>\n",
       "      <td>0.551609</td>\n",
       "      <td>0.220644</td>\n",
       "      <td>0.031521</td>\n",
       "    </tr>\n",
       "    <tr>\n",
       "      <th>1</th>\n",
       "      <td>0.828133</td>\n",
       "      <td>0.507020</td>\n",
       "      <td>0.236609</td>\n",
       "      <td>0.033801</td>\n",
       "    </tr>\n",
       "    <tr>\n",
       "      <th>2</th>\n",
       "      <td>0.805333</td>\n",
       "      <td>0.548312</td>\n",
       "      <td>0.222752</td>\n",
       "      <td>0.034269</td>\n",
       "    </tr>\n",
       "    <tr>\n",
       "      <th>3</th>\n",
       "      <td>0.800030</td>\n",
       "      <td>0.539151</td>\n",
       "      <td>0.260879</td>\n",
       "      <td>0.034784</td>\n",
       "    </tr>\n",
       "    <tr>\n",
       "      <th>4</th>\n",
       "      <td>0.790965</td>\n",
       "      <td>0.569495</td>\n",
       "      <td>0.221470</td>\n",
       "      <td>0.031639</td>\n",
       "    </tr>\n",
       "  </tbody>\n",
       "</table>\n",
       "</div>"
      ],
      "text/plain": [
       "   sepal_length  sepal_width  petal_length  petal_width\n",
       "0      0.803773     0.551609      0.220644     0.031521\n",
       "1      0.828133     0.507020      0.236609     0.033801\n",
       "2      0.805333     0.548312      0.222752     0.034269\n",
       "3      0.800030     0.539151      0.260879     0.034784\n",
       "4      0.790965     0.569495      0.221470     0.031639"
      ]
     },
     "execution_count": 19,
     "metadata": {},
     "output_type": "execute_result"
    }
   ],
   "source": [
    "df2.head() ## Normalized dataset"
   ]
  },
  {
   "cell_type": "markdown",
   "id": "1da8ade2-bbe4-4fd6-9bde-23dd71045c76",
   "metadata": {
    "tags": []
   },
   "source": [
    "### Q3. What is PCA (Principle Component Analysis), and how is it used in dimensionality reduction? Provide an example to illustrate its application."
   ]
  },
  {
   "cell_type": "markdown",
   "id": "8a01cfa7-4ce9-4322-9fe3-80dee4497e63",
   "metadata": {},
   "source": [
    "Principal component analysis (PCA) is a statistical technique that is used to reduce the dimensionality of a dataset. This is accomplished by finding a set of new variables that are linear combinations of the original variables. The new variables are called principal components, and they are chosen so that they capture as much of the variation in the data as possible.\n",
    "\n",
    "PCA is often used in dimensionality reduction because it can help to improve the interpretability of data. When a dataset has a large number of dimensions, it can be difficult to see the relationships between the variables. PCA can help to reduce the number of dimensions while still preserving the most important information.\n",
    "\n",
    "PCA can also be used to improve the performance of machine learning algorithms. Many machine learning algorithms are not designed to handle large datasets. PCA can help to reduce the size of the dataset, which can make it easier for the algorithm to learn.\n",
    "\n",
    "PCA is a powerful tool that can be used to reduce the dimensionality of data. It can help to improve the interpretability of data and the performance of machine learning algorithms.\n",
    "\n",
    "_Example : Consider a dataset that contains information about a group of people, including their height, weight, and age. This dataset has three dimensions. We can use PCA to reduce the dimensionality of this dataset to two dimensions by finding the two principal components that capture the most variation in the data. The first principal component will likely be a combination of height and weight, and the second principal component will likely be a combination of age. By reducing the dimensionality of the dataset to two dimensions, we can make it easier to visualize the data and to see the relationships between the variables._\n",
    "\n"
   ]
  },
  {
   "cell_type": "markdown",
   "id": "2eee132f-697f-4178-b48a-76ccfac1e0da",
   "metadata": {},
   "source": [
    "### Q5. You are working on a project to build a recommendation system for a food delivery service. The dataset contains features such as price, rating, and delivery time. Explain how you would use Min-Max scaling to preprocess the data."
   ]
  },
  {
   "cell_type": "code",
   "execution_count": 20,
   "id": "6b5c40d4-be05-46a5-8159-525d7e36aa3e",
   "metadata": {},
   "outputs": [],
   "source": [
    "import numpy as np\n",
    "import pandas as pd\n",
    "import seaborn as sns\n",
    "\n",
    "# Set random seed for reproducibility\n",
    "np.random.seed(42)\n",
    "\n",
    "# Generate random data\n",
    "price = np.random.normal(50, 10, 100)  # Mean: 50, Standard deviation: 10\n",
    "rating = np.random.randint(1, 6, 100)  # Range: 1 to 5\n",
    "delivery_time = np.random.normal(3, 1, 100)  # Mean: 3, Standard deviation: 1\n",
    "\n",
    "# Create a DataFrame\n",
    "data = pd.DataFrame({\n",
    "    'price': price,\n",
    "    'rating': rating,\n",
    "    'delivery_time': delivery_time\n",
    "})"
   ]
  },
  {
   "cell_type": "code",
   "execution_count": 21,
   "id": "36721980-fc18-47d8-9fc8-722967c06dfc",
   "metadata": {},
   "outputs": [
    {
     "data": {
      "text/html": [
       "<div>\n",
       "<style scoped>\n",
       "    .dataframe tbody tr th:only-of-type {\n",
       "        vertical-align: middle;\n",
       "    }\n",
       "\n",
       "    .dataframe tbody tr th {\n",
       "        vertical-align: top;\n",
       "    }\n",
       "\n",
       "    .dataframe thead th {\n",
       "        text-align: right;\n",
       "    }\n",
       "</style>\n",
       "<table border=\"1\" class=\"dataframe\">\n",
       "  <thead>\n",
       "    <tr style=\"text-align: right;\">\n",
       "      <th></th>\n",
       "      <th>price</th>\n",
       "      <th>rating</th>\n",
       "      <th>delivery_time</th>\n",
       "    </tr>\n",
       "  </thead>\n",
       "  <tbody>\n",
       "    <tr>\n",
       "      <th>0</th>\n",
       "      <td>54.967142</td>\n",
       "      <td>1</td>\n",
       "      <td>4.049347</td>\n",
       "    </tr>\n",
       "    <tr>\n",
       "      <th>1</th>\n",
       "      <td>48.617357</td>\n",
       "      <td>5</td>\n",
       "      <td>4.325106</td>\n",
       "    </tr>\n",
       "    <tr>\n",
       "      <th>2</th>\n",
       "      <td>56.476885</td>\n",
       "      <td>1</td>\n",
       "      <td>3.734501</td>\n",
       "    </tr>\n",
       "    <tr>\n",
       "      <th>3</th>\n",
       "      <td>65.230299</td>\n",
       "      <td>3</td>\n",
       "      <td>2.045503</td>\n",
       "    </tr>\n",
       "    <tr>\n",
       "      <th>4</th>\n",
       "      <td>47.658466</td>\n",
       "      <td>2</td>\n",
       "      <td>2.248821</td>\n",
       "    </tr>\n",
       "  </tbody>\n",
       "</table>\n",
       "</div>"
      ],
      "text/plain": [
       "       price  rating  delivery_time\n",
       "0  54.967142       1       4.049347\n",
       "1  48.617357       5       4.325106\n",
       "2  56.476885       1       3.734501\n",
       "3  65.230299       3       2.045503\n",
       "4  47.658466       2       2.248821"
      ]
     },
     "execution_count": 21,
     "metadata": {},
     "output_type": "execute_result"
    }
   ],
   "source": [
    "data.head()"
   ]
  },
  {
   "cell_type": "code",
   "execution_count": 22,
   "id": "a826b8ce-df1e-4436-8472-7991a573161f",
   "metadata": {},
   "outputs": [],
   "source": [
    "from sklearn.preprocessing import MinMaxScaler"
   ]
  },
  {
   "cell_type": "code",
   "execution_count": 23,
   "id": "6c12690c-0c0e-4c36-9c80-b96c6e8b994f",
   "metadata": {},
   "outputs": [],
   "source": [
    "scaler=MinMaxScaler()"
   ]
  },
  {
   "cell_type": "code",
   "execution_count": 24,
   "id": "3e4922fa-1396-42a0-97b4-beb0170cdedd",
   "metadata": {},
   "outputs": [],
   "source": [
    "min_max=scaler.fit_transform(data[['price','rating','delivery_time']])"
   ]
  },
  {
   "cell_type": "code",
   "execution_count": 25,
   "id": "97f490ab-dbda-480f-9bd3-50c2c49c4a15",
   "metadata": {},
   "outputs": [],
   "source": [
    "df=pd.DataFrame(min_max,columns=\"processed_\"+scaler.get_feature_names_out())"
   ]
  },
  {
   "cell_type": "code",
   "execution_count": 26,
   "id": "1e706aad-3bb6-4a60-b6d9-9fe29e7f4c87",
   "metadata": {},
   "outputs": [],
   "source": [
    "df2=pd.concat([data,df],axis=1)"
   ]
  },
  {
   "cell_type": "code",
   "execution_count": 27,
   "id": "cf83f3db-3e2f-4aa4-849b-bddad90470c2",
   "metadata": {},
   "outputs": [
    {
     "name": "stdout",
     "output_type": "stream",
     "text": [
      "       price  rating  delivery_time  processed_price  processed_rating  \\\n",
      "0  54.967142       1       4.049347         0.696879              0.00   \n",
      "1  48.617357       5       4.325106         0.554890              1.00   \n",
      "2  56.476885       1       3.734501         0.730639              0.00   \n",
      "3  65.230299       3       2.045503         0.926376              0.50   \n",
      "4  47.658466       2       2.248821         0.533448              0.25   \n",
      "\n",
      "   processed_delivery_time  \n",
      "0                 0.627436  \n",
      "1                 0.688406  \n",
      "2                 0.557825  \n",
      "3                 0.184394  \n",
      "4                 0.229347  \n"
     ]
    }
   ],
   "source": [
    "print(df2.head())"
   ]
  },
  {
   "cell_type": "markdown",
   "id": "16beb780-bf05-4855-afe9-ee08b3c6f0a1",
   "metadata": {},
   "source": [
    "### Q6. You are working on a project to build a model to predict stock prices. The dataset contains many features, such as company financial data and market trends. Explain how you would use PCA to reduce the dimensionality of the dataset."
   ]
  },
  {
   "cell_type": "code",
   "execution_count": 28,
   "id": "0b62c735-094e-441b-a72e-0b706381a518",
   "metadata": {},
   "outputs": [],
   "source": [
    "import pandas as pd\n",
    "import numpy as np\n",
    "\n",
    "# Set random seed for reproducibility\n",
    "np.random.seed(42)\n",
    "\n",
    "# Define the number of samples\n",
    "num_samples = 1000\n",
    "\n",
    "# Generate random data for features\n",
    "company_name = ['Company A', 'Company B', 'Company C', 'Company D', 'Company E']\n",
    "financial_data = np.random.uniform(0, 100, (num_samples, 3))  # 3 financial data features\n",
    "market_trend = np.random.uniform(-1, 1, num_samples)  # 1 market trend feature\n",
    "\n",
    "# Generate random target variable (stock prices)\n",
    "stock_prices = np.random.uniform(0, 200, num_samples)\n",
    "\n",
    "# Create a DataFrame\n",
    "data = pd.DataFrame({\n",
    "    'Company': np.random.choice(company_name, num_samples),\n",
    "    'FinancialData1': financial_data[:, 0],\n",
    "    'FinancialData2': financial_data[:, 1],\n",
    "    'FinancialData3': financial_data[:, 2],\n",
    "    'MarketTrend': market_trend,\n",
    "    'StockPrice': stock_prices\n",
    "})"
   ]
  },
  {
   "cell_type": "code",
   "execution_count": 29,
   "id": "d2f4c1f9-0fb6-4792-9661-12e1c20e950e",
   "metadata": {},
   "outputs": [
    {
     "data": {
      "text/html": [
       "<div>\n",
       "<style scoped>\n",
       "    .dataframe tbody tr th:only-of-type {\n",
       "        vertical-align: middle;\n",
       "    }\n",
       "\n",
       "    .dataframe tbody tr th {\n",
       "        vertical-align: top;\n",
       "    }\n",
       "\n",
       "    .dataframe thead th {\n",
       "        text-align: right;\n",
       "    }\n",
       "</style>\n",
       "<table border=\"1\" class=\"dataframe\">\n",
       "  <thead>\n",
       "    <tr style=\"text-align: right;\">\n",
       "      <th></th>\n",
       "      <th>Company</th>\n",
       "      <th>FinancialData1</th>\n",
       "      <th>FinancialData2</th>\n",
       "      <th>FinancialData3</th>\n",
       "      <th>MarketTrend</th>\n",
       "      <th>StockPrice</th>\n",
       "    </tr>\n",
       "  </thead>\n",
       "  <tbody>\n",
       "    <tr>\n",
       "      <th>0</th>\n",
       "      <td>Company C</td>\n",
       "      <td>37.454012</td>\n",
       "      <td>95.071431</td>\n",
       "      <td>73.199394</td>\n",
       "      <td>0.345406</td>\n",
       "      <td>114.399176</td>\n",
       "    </tr>\n",
       "    <tr>\n",
       "      <th>1</th>\n",
       "      <td>Company C</td>\n",
       "      <td>59.865848</td>\n",
       "      <td>15.601864</td>\n",
       "      <td>15.599452</td>\n",
       "      <td>0.593363</td>\n",
       "      <td>161.086466</td>\n",
       "    </tr>\n",
       "    <tr>\n",
       "      <th>2</th>\n",
       "      <td>Company D</td>\n",
       "      <td>5.808361</td>\n",
       "      <td>86.617615</td>\n",
       "      <td>60.111501</td>\n",
       "      <td>-0.499064</td>\n",
       "      <td>152.032186</td>\n",
       "    </tr>\n",
       "    <tr>\n",
       "      <th>3</th>\n",
       "      <td>Company C</td>\n",
       "      <td>70.807258</td>\n",
       "      <td>2.058449</td>\n",
       "      <td>96.990985</td>\n",
       "      <td>0.249748</td>\n",
       "      <td>30.779981</td>\n",
       "    </tr>\n",
       "    <tr>\n",
       "      <th>4</th>\n",
       "      <td>Company E</td>\n",
       "      <td>83.244264</td>\n",
       "      <td>21.233911</td>\n",
       "      <td>18.182497</td>\n",
       "      <td>0.143492</td>\n",
       "      <td>29.849894</td>\n",
       "    </tr>\n",
       "  </tbody>\n",
       "</table>\n",
       "</div>"
      ],
      "text/plain": [
       "     Company  FinancialData1  FinancialData2  FinancialData3  MarketTrend  \\\n",
       "0  Company C       37.454012       95.071431       73.199394     0.345406   \n",
       "1  Company C       59.865848       15.601864       15.599452     0.593363   \n",
       "2  Company D        5.808361       86.617615       60.111501    -0.499064   \n",
       "3  Company C       70.807258        2.058449       96.990985     0.249748   \n",
       "4  Company E       83.244264       21.233911       18.182497     0.143492   \n",
       "\n",
       "   StockPrice  \n",
       "0  114.399176  \n",
       "1  161.086466  \n",
       "2  152.032186  \n",
       "3   30.779981  \n",
       "4   29.849894  "
      ]
     },
     "execution_count": 29,
     "metadata": {},
     "output_type": "execute_result"
    }
   ],
   "source": [
    "data.head()"
   ]
  },
  {
   "cell_type": "code",
   "execution_count": 30,
   "id": "33d65573-dc31-4949-88cb-f7451b3d68f1",
   "metadata": {},
   "outputs": [
    {
     "data": {
      "text/plain": [
       "Index(['Company', 'FinancialData1', 'FinancialData2', 'FinancialData3',\n",
       "       'MarketTrend', 'StockPrice'],\n",
       "      dtype='object')"
      ]
     },
     "execution_count": 30,
     "metadata": {},
     "output_type": "execute_result"
    }
   ],
   "source": [
    "data.columns"
   ]
  },
  {
   "cell_type": "code",
   "execution_count": 31,
   "id": "8638d3e9-39d7-4420-99b1-dfbff938fa41",
   "metadata": {},
   "outputs": [],
   "source": [
    "from sklearn.decomposition import PCA"
   ]
  },
  {
   "cell_type": "code",
   "execution_count": 32,
   "id": "1983a7b8-cf72-48b7-a211-2046a4ff5bc4",
   "metadata": {},
   "outputs": [],
   "source": [
    "from sklearn.preprocessing import StandardScaler"
   ]
  },
  {
   "cell_type": "code",
   "execution_count": 33,
   "id": "feca0e3c-adca-4b14-afad-d1cf959dbf4b",
   "metadata": {},
   "outputs": [],
   "source": [
    "scaler=StandardScaler()"
   ]
  },
  {
   "cell_type": "code",
   "execution_count": 34,
   "id": "8a9f5382-6e90-4cbf-9de9-4ee322af715b",
   "metadata": {},
   "outputs": [],
   "source": [
    "X=scaler.fit_transform(data[['FinancialData1', 'FinancialData2', 'FinancialData3', 'MarketTrend', 'StockPrice']])"
   ]
  },
  {
   "cell_type": "code",
   "execution_count": 35,
   "id": "ef61f09b-0a32-473f-b762-6f17aed5238d",
   "metadata": {},
   "outputs": [],
   "source": [
    "pca = PCA()\n",
    "principal_components= pca.fit_transform(X)\n",
    "\n",
    "principal_df = pd.DataFrame(data=principal_components, columns=['PC1', 'PC2','PC3','PC4','PC5'])"
   ]
  },
  {
   "cell_type": "code",
   "execution_count": 36,
   "id": "b8368321-26ed-4b53-a555-73c887fa5338",
   "metadata": {},
   "outputs": [
    {
     "data": {
      "text/html": [
       "<div>\n",
       "<style scoped>\n",
       "    .dataframe tbody tr th:only-of-type {\n",
       "        vertical-align: middle;\n",
       "    }\n",
       "\n",
       "    .dataframe tbody tr th {\n",
       "        vertical-align: top;\n",
       "    }\n",
       "\n",
       "    .dataframe thead th {\n",
       "        text-align: right;\n",
       "    }\n",
       "</style>\n",
       "<table border=\"1\" class=\"dataframe\">\n",
       "  <thead>\n",
       "    <tr style=\"text-align: right;\">\n",
       "      <th></th>\n",
       "      <th>PC1</th>\n",
       "      <th>PC2</th>\n",
       "      <th>PC3</th>\n",
       "      <th>PC4</th>\n",
       "      <th>PC5</th>\n",
       "    </tr>\n",
       "  </thead>\n",
       "  <tbody>\n",
       "    <tr>\n",
       "      <th>0</th>\n",
       "      <td>-0.088251</td>\n",
       "      <td>-0.645954</td>\n",
       "      <td>-1.366606</td>\n",
       "      <td>-0.549838</td>\n",
       "      <td>1.076891</td>\n",
       "    </tr>\n",
       "    <tr>\n",
       "      <th>1</th>\n",
       "      <td>0.372140</td>\n",
       "      <td>1.122241</td>\n",
       "      <td>1.174240</td>\n",
       "      <td>1.114218</td>\n",
       "      <td>1.020380</td>\n",
       "    </tr>\n",
       "    <tr>\n",
       "      <th>2</th>\n",
       "      <td>-0.679308</td>\n",
       "      <td>0.680248</td>\n",
       "      <td>-1.081302</td>\n",
       "      <td>-1.836184</td>\n",
       "      <td>0.564674</td>\n",
       "    </tr>\n",
       "    <tr>\n",
       "      <th>3</th>\n",
       "      <td>0.811412</td>\n",
       "      <td>-2.008004</td>\n",
       "      <td>1.528948</td>\n",
       "      <td>0.058229</td>\n",
       "      <td>-0.542202</td>\n",
       "    </tr>\n",
       "    <tr>\n",
       "      <th>4</th>\n",
       "      <td>0.747677</td>\n",
       "      <td>0.056992</td>\n",
       "      <td>0.584695</td>\n",
       "      <td>1.615508</td>\n",
       "      <td>-1.145488</td>\n",
       "    </tr>\n",
       "  </tbody>\n",
       "</table>\n",
       "</div>"
      ],
      "text/plain": [
       "        PC1       PC2       PC3       PC4       PC5\n",
       "0 -0.088251 -0.645954 -1.366606 -0.549838  1.076891\n",
       "1  0.372140  1.122241  1.174240  1.114218  1.020380\n",
       "2 -0.679308  0.680248 -1.081302 -1.836184  0.564674\n",
       "3  0.811412 -2.008004  1.528948  0.058229 -0.542202\n",
       "4  0.747677  0.056992  0.584695  1.615508 -1.145488"
      ]
     },
     "execution_count": 36,
     "metadata": {},
     "output_type": "execute_result"
    }
   ],
   "source": [
    "principal_df.head()"
   ]
  },
  {
   "cell_type": "markdown",
   "id": "17c6ee3f-3649-473b-a08d-4788c5d7d6cb",
   "metadata": {},
   "source": [
    "### Q7. For a dataset containing the following values: [1, 5, 10, 15, 20], perform Min-Max scaling to transform the values to a range of -1 to 1."
   ]
  },
  {
   "cell_type": "code",
   "execution_count": 37,
   "id": "9aa07f5f-51cf-490c-b2bc-3502af5575ca",
   "metadata": {},
   "outputs": [],
   "source": [
    "x=[1, 5, 10, 15, 20]"
   ]
  },
  {
   "cell_type": "code",
   "execution_count": 38,
   "id": "072b0b98-8233-4296-a624-d88a09e36faf",
   "metadata": {},
   "outputs": [],
   "source": [
    "from sklearn.preprocessing import MinMaxScaler"
   ]
  },
  {
   "cell_type": "code",
   "execution_count": 39,
   "id": "bd6b6394-93dc-4f8d-a2ed-7b2ae30581f9",
   "metadata": {},
   "outputs": [],
   "source": [
    "# Apply MinMaxScaler\n",
    "scaler=MinMaxScaler()"
   ]
  },
  {
   "cell_type": "code",
   "execution_count": 40,
   "id": "1fb910fc-d8ad-4579-aaea-22d9db770342",
   "metadata": {},
   "outputs": [],
   "source": [
    "#Convert to 2D\n",
    "x_2d = np.array(x).reshape(-1, 1)"
   ]
  },
  {
   "cell_type": "code",
   "execution_count": 41,
   "id": "69327aba-5033-4f32-919e-3a2cdb84da7c",
   "metadata": {},
   "outputs": [],
   "source": [
    "min_max=scaler.fit_transform(x_2d)"
   ]
  },
  {
   "cell_type": "code",
   "execution_count": 42,
   "id": "f6d16396-907f-4368-b26f-420d1b806d84",
   "metadata": {},
   "outputs": [],
   "source": [
    "# Create a DataFrame\n",
    "df = pd.DataFrame({'x': x, 'min-max': min_max.flatten()})"
   ]
  },
  {
   "cell_type": "code",
   "execution_count": 43,
   "id": "d4903f1f-80af-45ad-ab70-0be94289821a",
   "metadata": {},
   "outputs": [
    {
     "data": {
      "text/html": [
       "<div>\n",
       "<style scoped>\n",
       "    .dataframe tbody tr th:only-of-type {\n",
       "        vertical-align: middle;\n",
       "    }\n",
       "\n",
       "    .dataframe tbody tr th {\n",
       "        vertical-align: top;\n",
       "    }\n",
       "\n",
       "    .dataframe thead th {\n",
       "        text-align: right;\n",
       "    }\n",
       "</style>\n",
       "<table border=\"1\" class=\"dataframe\">\n",
       "  <thead>\n",
       "    <tr style=\"text-align: right;\">\n",
       "      <th></th>\n",
       "      <th>x</th>\n",
       "      <th>min-max</th>\n",
       "    </tr>\n",
       "  </thead>\n",
       "  <tbody>\n",
       "    <tr>\n",
       "      <th>0</th>\n",
       "      <td>1</td>\n",
       "      <td>0.000000</td>\n",
       "    </tr>\n",
       "    <tr>\n",
       "      <th>1</th>\n",
       "      <td>5</td>\n",
       "      <td>0.210526</td>\n",
       "    </tr>\n",
       "    <tr>\n",
       "      <th>2</th>\n",
       "      <td>10</td>\n",
       "      <td>0.473684</td>\n",
       "    </tr>\n",
       "    <tr>\n",
       "      <th>3</th>\n",
       "      <td>15</td>\n",
       "      <td>0.736842</td>\n",
       "    </tr>\n",
       "    <tr>\n",
       "      <th>4</th>\n",
       "      <td>20</td>\n",
       "      <td>1.000000</td>\n",
       "    </tr>\n",
       "  </tbody>\n",
       "</table>\n",
       "</div>"
      ],
      "text/plain": [
       "    x   min-max\n",
       "0   1  0.000000\n",
       "1   5  0.210526\n",
       "2  10  0.473684\n",
       "3  15  0.736842\n",
       "4  20  1.000000"
      ]
     },
     "execution_count": 43,
     "metadata": {},
     "output_type": "execute_result"
    }
   ],
   "source": [
    "df"
   ]
  },
  {
   "cell_type": "markdown",
   "id": "f904a0fd-6f07-4c8e-a60e-d5f403037713",
   "metadata": {},
   "source": [
    "### Q8. For a dataset containing the following features: [height, weight, age, gender, blood pressure], perform Feature Extraction using PCA. How many principal components would you choose to retain, and why?"
   ]
  },
  {
   "cell_type": "code",
   "execution_count": 44,
   "id": "61deee6d-2ced-44d4-8746-ddf38775e2ab",
   "metadata": {},
   "outputs": [],
   "source": [
    "import numpy as np\n",
    "np.random.seed(42)\n",
    "height = np.random.randint(165,175,50)\n",
    "weight = np.random.randint(45,95,50)\n",
    "age = np.random.randint(15,75,50)\n",
    "gender = np.array([\"Male\", \"Female\"] * 25)[:50]\n",
    "blood_pressure = np.random.randint(80, 140,50)\n"
   ]
  },
  {
   "cell_type": "code",
   "execution_count": 45,
   "id": "ab234f76-bab7-49f8-945a-107efa3696e2",
   "metadata": {},
   "outputs": [],
   "source": [
    "import pandas as pd\n",
    "df=pd.DataFrame({'height':height, 'weight':weight, 'age':age,'blood pressure': blood_pressure,\"gender\":gender})"
   ]
  },
  {
   "cell_type": "code",
   "execution_count": 46,
   "id": "38c0e3ae-eba3-4792-89da-dea6681ec779",
   "metadata": {},
   "outputs": [
    {
     "data": {
      "text/html": [
       "<div>\n",
       "<style scoped>\n",
       "    .dataframe tbody tr th:only-of-type {\n",
       "        vertical-align: middle;\n",
       "    }\n",
       "\n",
       "    .dataframe tbody tr th {\n",
       "        vertical-align: top;\n",
       "    }\n",
       "\n",
       "    .dataframe thead th {\n",
       "        text-align: right;\n",
       "    }\n",
       "</style>\n",
       "<table border=\"1\" class=\"dataframe\">\n",
       "  <thead>\n",
       "    <tr style=\"text-align: right;\">\n",
       "      <th></th>\n",
       "      <th>height</th>\n",
       "      <th>weight</th>\n",
       "      <th>age</th>\n",
       "      <th>blood pressure</th>\n",
       "      <th>gender</th>\n",
       "    </tr>\n",
       "  </thead>\n",
       "  <tbody>\n",
       "    <tr>\n",
       "      <th>0</th>\n",
       "      <td>171</td>\n",
       "      <td>91</td>\n",
       "      <td>65</td>\n",
       "      <td>130</td>\n",
       "      <td>Male</td>\n",
       "    </tr>\n",
       "    <tr>\n",
       "      <th>1</th>\n",
       "      <td>168</td>\n",
       "      <td>79</td>\n",
       "      <td>31</td>\n",
       "      <td>111</td>\n",
       "      <td>Female</td>\n",
       "    </tr>\n",
       "    <tr>\n",
       "      <th>2</th>\n",
       "      <td>172</td>\n",
       "      <td>58</td>\n",
       "      <td>22</td>\n",
       "      <td>118</td>\n",
       "      <td>Male</td>\n",
       "    </tr>\n",
       "    <tr>\n",
       "      <th>3</th>\n",
       "      <td>169</td>\n",
       "      <td>61</td>\n",
       "      <td>49</td>\n",
       "      <td>128</td>\n",
       "      <td>Female</td>\n",
       "    </tr>\n",
       "    <tr>\n",
       "      <th>4</th>\n",
       "      <td>171</td>\n",
       "      <td>80</td>\n",
       "      <td>49</td>\n",
       "      <td>131</td>\n",
       "      <td>Male</td>\n",
       "    </tr>\n",
       "  </tbody>\n",
       "</table>\n",
       "</div>"
      ],
      "text/plain": [
       "   height  weight  age  blood pressure  gender\n",
       "0     171      91   65             130    Male\n",
       "1     168      79   31             111  Female\n",
       "2     172      58   22             118    Male\n",
       "3     169      61   49             128  Female\n",
       "4     171      80   49             131    Male"
      ]
     },
     "execution_count": 46,
     "metadata": {},
     "output_type": "execute_result"
    }
   ],
   "source": [
    "df.head()"
   ]
  },
  {
   "cell_type": "code",
   "execution_count": 47,
   "id": "cb135971-90ca-4cc7-9c63-a2f0ea3ad6a2",
   "metadata": {},
   "outputs": [
    {
     "data": {
      "text/plain": [
       "Index(['height', 'weight', 'age', 'blood pressure', 'gender'], dtype='object')"
      ]
     },
     "execution_count": 47,
     "metadata": {},
     "output_type": "execute_result"
    }
   ],
   "source": [
    "df.columns"
   ]
  },
  {
   "cell_type": "code",
   "execution_count": 48,
   "id": "82aeb0e4-4487-4758-969c-cd8a39cedc43",
   "metadata": {},
   "outputs": [],
   "source": [
    "from sklearn.preprocessing import StandardScaler"
   ]
  },
  {
   "cell_type": "code",
   "execution_count": 49,
   "id": "9b81c72c-54ec-4efe-8f4d-96b1d3aab30f",
   "metadata": {},
   "outputs": [],
   "source": [
    "scaler = StandardScaler()"
   ]
  },
  {
   "cell_type": "code",
   "execution_count": 50,
   "id": "5d4030c7-b29c-42f8-9e96-318e1770701a",
   "metadata": {},
   "outputs": [],
   "source": [
    "data = scaler.fit_transform(df[['height', 'weight', 'age', 'blood pressure']])"
   ]
  },
  {
   "cell_type": "code",
   "execution_count": 51,
   "id": "f7364908-b575-490b-80a7-399d8da8e945",
   "metadata": {},
   "outputs": [],
   "source": [
    "from sklearn.decomposition import PCA"
   ]
  },
  {
   "cell_type": "code",
   "execution_count": 52,
   "id": "e546ba8d-184c-4cca-b2a3-3ba562e4fab7",
   "metadata": {},
   "outputs": [],
   "source": [
    "pca=PCA()"
   ]
  },
  {
   "cell_type": "code",
   "execution_count": 53,
   "id": "55fd130d-d7f0-4d67-831d-50f43b28549b",
   "metadata": {},
   "outputs": [],
   "source": [
    "df[['PC1', 'PC2', 'PC3', 'PC4']]=pca.fit_transform(data)"
   ]
  },
  {
   "cell_type": "code",
   "execution_count": 54,
   "id": "3feca0a2-f5f2-43a5-b904-f5f192141c27",
   "metadata": {},
   "outputs": [
    {
     "data": {
      "text/html": [
       "<div>\n",
       "<style scoped>\n",
       "    .dataframe tbody tr th:only-of-type {\n",
       "        vertical-align: middle;\n",
       "    }\n",
       "\n",
       "    .dataframe tbody tr th {\n",
       "        vertical-align: top;\n",
       "    }\n",
       "\n",
       "    .dataframe thead th {\n",
       "        text-align: right;\n",
       "    }\n",
       "</style>\n",
       "<table border=\"1\" class=\"dataframe\">\n",
       "  <thead>\n",
       "    <tr style=\"text-align: right;\">\n",
       "      <th></th>\n",
       "      <th>height</th>\n",
       "      <th>weight</th>\n",
       "      <th>age</th>\n",
       "      <th>blood pressure</th>\n",
       "      <th>gender</th>\n",
       "      <th>PC1</th>\n",
       "      <th>PC2</th>\n",
       "      <th>PC3</th>\n",
       "      <th>PC4</th>\n",
       "    </tr>\n",
       "  </thead>\n",
       "  <tbody>\n",
       "    <tr>\n",
       "      <th>0</th>\n",
       "      <td>171</td>\n",
       "      <td>91</td>\n",
       "      <td>65</td>\n",
       "      <td>130</td>\n",
       "      <td>Male</td>\n",
       "      <td>1.350729</td>\n",
       "      <td>-1.116672</td>\n",
       "      <td>-0.282030</td>\n",
       "      <td>1.504568</td>\n",
       "    </tr>\n",
       "    <tr>\n",
       "      <th>1</th>\n",
       "      <td>168</td>\n",
       "      <td>79</td>\n",
       "      <td>31</td>\n",
       "      <td>111</td>\n",
       "      <td>Female</td>\n",
       "      <td>0.453537</td>\n",
       "      <td>-0.035229</td>\n",
       "      <td>1.030281</td>\n",
       "      <td>-0.422210</td>\n",
       "    </tr>\n",
       "    <tr>\n",
       "      <th>2</th>\n",
       "      <td>172</td>\n",
       "      <td>58</td>\n",
       "      <td>22</td>\n",
       "      <td>118</td>\n",
       "      <td>Male</td>\n",
       "      <td>-1.553033</td>\n",
       "      <td>-0.486110</td>\n",
       "      <td>0.329920</td>\n",
       "      <td>-0.271014</td>\n",
       "    </tr>\n",
       "    <tr>\n",
       "      <th>3</th>\n",
       "      <td>169</td>\n",
       "      <td>61</td>\n",
       "      <td>49</td>\n",
       "      <td>128</td>\n",
       "      <td>Female</td>\n",
       "      <td>0.171601</td>\n",
       "      <td>-0.755986</td>\n",
       "      <td>-0.772000</td>\n",
       "      <td>-0.465955</td>\n",
       "    </tr>\n",
       "    <tr>\n",
       "      <th>4</th>\n",
       "      <td>171</td>\n",
       "      <td>80</td>\n",
       "      <td>49</td>\n",
       "      <td>131</td>\n",
       "      <td>Male</td>\n",
       "      <td>0.428808</td>\n",
       "      <td>-1.198966</td>\n",
       "      <td>-0.048954</td>\n",
       "      <td>0.746466</td>\n",
       "    </tr>\n",
       "  </tbody>\n",
       "</table>\n",
       "</div>"
      ],
      "text/plain": [
       "   height  weight  age  blood pressure  gender       PC1       PC2       PC3  \\\n",
       "0     171      91   65             130    Male  1.350729 -1.116672 -0.282030   \n",
       "1     168      79   31             111  Female  0.453537 -0.035229  1.030281   \n",
       "2     172      58   22             118    Male -1.553033 -0.486110  0.329920   \n",
       "3     169      61   49             128  Female  0.171601 -0.755986 -0.772000   \n",
       "4     171      80   49             131    Male  0.428808 -1.198966 -0.048954   \n",
       "\n",
       "        PC4  \n",
       "0  1.504568  \n",
       "1 -0.422210  \n",
       "2 -0.271014  \n",
       "3 -0.465955  \n",
       "4  0.746466  "
      ]
     },
     "execution_count": 54,
     "metadata": {},
     "output_type": "execute_result"
    }
   ],
   "source": [
    "df.head()"
   ]
  },
  {
   "cell_type": "code",
   "execution_count": 55,
   "id": "e6e99611-6536-4eef-9f6e-aaef7a614e7e",
   "metadata": {},
   "outputs": [
    {
     "name": "stdout",
     "output_type": "stream",
     "text": [
      "Explained Variance Ratio:\n",
      "[0.36336598 0.25181597 0.21370164 0.17111642]\n",
      "Loadings of Principal Components:\n",
      "[[-0.63519635  0.55929447  0.5286136   0.06544431]\n",
      " [-0.11311056 -0.14149466  0.13440342 -0.9742284 ]\n",
      " [-0.08156822  0.63423866 -0.74608978 -0.18557473]\n",
      " [ 0.75965665  0.51469435  0.38190761 -0.11026367]]\n"
     ]
    }
   ],
   "source": [
    "# Print the explained variance ratio\n",
    "print(\"Explained Variance Ratio:\")\n",
    "print(pca.explained_variance_ratio_)\n",
    "\n",
    "# Print the loadings of the principal components\n",
    "print(\"Loadings of Principal Components:\")\n",
    "print(pca.components_)"
   ]
  },
  {
   "cell_type": "markdown",
   "id": "6696efee-9bed-415d-aba7-5b62ede554b0",
   "metadata": {},
   "source": [
    "##### Explained Variane Ratio: \n",
    "The explained variance ratio indicates the proportion of variance explained by each principal component. In this case, PC1 captures 36.34% of the variance, PC2 captures 25.18%, PC3 captures 21.37%, and PC4 captures 17.11%. Generally, you want to retain the principal components that explain a significant amount of variance. Based on the explained variance ratios, you may consider retaining PC1, PC2, PC3, and PC4.\n",
    "\n",
    "##### Loadings of Principal Components:\n",
    "The loadings represent the contribution of each original feature to the principal components. Higher absolute loadings suggest a stronger relationship between the feature and the component. By examining the loadings, you can identify the features that have a higher impact on each principal component. In this case, PC1 is influenced by all the features, PC2 is primarily influenced by the fourth feature (blood pressure), PC3 is mainly influenced by the second feature (weight), and PC4 is influenced by the first feature (height).\n",
    "\n",
    "##### Conclusion\n",
    "Based on this information,I will consider retaining all the features (height, weight, age, blood pressure, gender) since all of them contribute to at least one principal component. "
   ]
  },
  {
   "cell_type": "markdown",
   "id": "62ebd56a-3590-44ea-8a9f-13c0f0b8be05",
   "metadata": {},
   "source": [
    "## The End"
   ]
  }
 ],
 "metadata": {
  "kernelspec": {
   "display_name": "Python 3 (ipykernel)",
   "language": "python",
   "name": "python3"
  },
  "language_info": {
   "codemirror_mode": {
    "name": "ipython",
    "version": 3
   },
   "file_extension": ".py",
   "mimetype": "text/x-python",
   "name": "python",
   "nbconvert_exporter": "python",
   "pygments_lexer": "ipython3",
   "version": "3.10.8"
  }
 },
 "nbformat": 4,
 "nbformat_minor": 5
}
