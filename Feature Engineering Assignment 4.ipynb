{
 "cells": [
  {
   "cell_type": "markdown",
   "id": "7eab22c0-b9c9-4019-97b1-7117b796913c",
   "metadata": {},
   "source": [
    "# Feature Engineering Assignment "
   ]
  },
  {
   "cell_type": "markdown",
   "id": "21ad660a-eab3-42cc-8194-0c7869c868b2",
   "metadata": {},
   "source": [
    "### Q1. What is the difference between Ordinal Encoding and Label Encoding? Provide an example of when you might choose one over the other."
   ]
  },
  {
   "cell_type": "markdown",
   "id": "21127737-e3bc-4ec1-8d6e-526cedd0adf3",
   "metadata": {},
   "source": [
    "\n",
    "\n",
    "| Encoding Approach | Ordinal Encoding | Label Encoding |\n",
    "|---|---|---|\n",
    "| Encoding Approach | Assigns a unique numerical value to each category in a categorical variable based on the order or rank of the categories. | Assigns a unique numerical label to each category in a categorical variable without considering any order or hierarchy among the categories. |\n",
    "| Applicability | Suitable when there is a natural order or hierarchy among the categories of a variable. | Appropriate when there is no intrinsic order or hierarchy among the categories, and they are treated as distinct labels. |\n",
    "| Interpretation | The encoded values in ordinal encoding carry ordinal information. Algorithms may assume a numerical relationship or order between the categories, which may or may not be accurate or meaningful. | The encoded labels in label encoding do not possess any inherent ordinal relationship. They are treated as distinct labels without any assumed numerical order. |\n",
    "\n",
    "Example: Suppose we have a dataset with a \"Size\" column representing T-shirt sizes, including \"Small,\" \"Medium,\" and \"Large.\" If there is a clear ordering or ranking among the sizes (e.g., Small < Medium < Large), we can use ordinal encoding to assign numerical values such as 0, 1, and 2 to represent the sizes. This encoding preserves the relative order of the sizes. On the other hand, if the sizes are merely distinct categories without any inherent order, we can use label encoding to assign arbitrary numerical labels like 0, 1, and 2 to represent the sizes.\n",
    "\n",
    "In summary, ordinal encoding is suitable when there is a natural order or ranking among the categories, while label encoding is appropriate when the categories are distinct labels without any assumed order."
   ]
  },
  {
   "cell_type": "markdown",
   "id": "b4d869bf-4a65-475f-9156-1584f5f76a69",
   "metadata": {},
   "source": [
    "### Q2. Explain how Target Guided Ordinal Encoding works and provide an example of when you might use it in a machine learning project."
   ]
  },
  {
   "cell_type": "markdown",
   "id": "8769e779-0b97-4905-9a55-a87d40405fd2",
   "metadata": {},
   "source": [
    "It is a technique used to encode categorical variables based on their relationship with the target variable. This encoding technique is useful when we have a categorical variable with a large number of unique categories, and we want to use this variable as a feature in our machine learning model.\n",
    "\n",
    "In Target Guided Ordinal Encoding, we replace each category in the categorical variable with a numerical value based on the mean or median of the target variable for that category. This creates a monotonic relationship between the categorical variable and the target variable, which can improve the predictive power of our model."
   ]
  },
  {
   "cell_type": "code",
   "execution_count": 1,
   "id": "ff0c9b1c-818c-4612-a87b-d18ecc40e827",
   "metadata": {},
   "outputs": [],
   "source": [
    "import numpy as np\n",
    "import pandas as pd"
   ]
  },
  {
   "cell_type": "code",
   "execution_count": 2,
   "id": "7bc99b94-68f7-4120-979c-b8d716ec20c8",
   "metadata": {},
   "outputs": [],
   "source": [
    "import seaborn as sns\n",
    "df=sns.load_dataset('titanic')"
   ]
  },
  {
   "cell_type": "code",
   "execution_count": 3,
   "id": "49b868e1-b14a-4564-a642-ffa6df438ac5",
   "metadata": {},
   "outputs": [
    {
     "data": {
      "text/html": [
       "<div>\n",
       "<style scoped>\n",
       "    .dataframe tbody tr th:only-of-type {\n",
       "        vertical-align: middle;\n",
       "    }\n",
       "\n",
       "    .dataframe tbody tr th {\n",
       "        vertical-align: top;\n",
       "    }\n",
       "\n",
       "    .dataframe thead th {\n",
       "        text-align: right;\n",
       "    }\n",
       "</style>\n",
       "<table border=\"1\" class=\"dataframe\">\n",
       "  <thead>\n",
       "    <tr style=\"text-align: right;\">\n",
       "      <th></th>\n",
       "      <th>survived</th>\n",
       "      <th>pclass</th>\n",
       "      <th>sex</th>\n",
       "      <th>age</th>\n",
       "      <th>sibsp</th>\n",
       "      <th>parch</th>\n",
       "      <th>fare</th>\n",
       "      <th>embarked</th>\n",
       "      <th>class</th>\n",
       "      <th>who</th>\n",
       "      <th>adult_male</th>\n",
       "      <th>deck</th>\n",
       "      <th>embark_town</th>\n",
       "      <th>alive</th>\n",
       "      <th>alone</th>\n",
       "    </tr>\n",
       "  </thead>\n",
       "  <tbody>\n",
       "    <tr>\n",
       "      <th>0</th>\n",
       "      <td>0</td>\n",
       "      <td>3</td>\n",
       "      <td>male</td>\n",
       "      <td>22.0</td>\n",
       "      <td>1</td>\n",
       "      <td>0</td>\n",
       "      <td>7.2500</td>\n",
       "      <td>S</td>\n",
       "      <td>Third</td>\n",
       "      <td>man</td>\n",
       "      <td>True</td>\n",
       "      <td>NaN</td>\n",
       "      <td>Southampton</td>\n",
       "      <td>no</td>\n",
       "      <td>False</td>\n",
       "    </tr>\n",
       "    <tr>\n",
       "      <th>1</th>\n",
       "      <td>1</td>\n",
       "      <td>1</td>\n",
       "      <td>female</td>\n",
       "      <td>38.0</td>\n",
       "      <td>1</td>\n",
       "      <td>0</td>\n",
       "      <td>71.2833</td>\n",
       "      <td>C</td>\n",
       "      <td>First</td>\n",
       "      <td>woman</td>\n",
       "      <td>False</td>\n",
       "      <td>C</td>\n",
       "      <td>Cherbourg</td>\n",
       "      <td>yes</td>\n",
       "      <td>False</td>\n",
       "    </tr>\n",
       "    <tr>\n",
       "      <th>2</th>\n",
       "      <td>1</td>\n",
       "      <td>3</td>\n",
       "      <td>female</td>\n",
       "      <td>26.0</td>\n",
       "      <td>0</td>\n",
       "      <td>0</td>\n",
       "      <td>7.9250</td>\n",
       "      <td>S</td>\n",
       "      <td>Third</td>\n",
       "      <td>woman</td>\n",
       "      <td>False</td>\n",
       "      <td>NaN</td>\n",
       "      <td>Southampton</td>\n",
       "      <td>yes</td>\n",
       "      <td>True</td>\n",
       "    </tr>\n",
       "    <tr>\n",
       "      <th>3</th>\n",
       "      <td>1</td>\n",
       "      <td>1</td>\n",
       "      <td>female</td>\n",
       "      <td>35.0</td>\n",
       "      <td>1</td>\n",
       "      <td>0</td>\n",
       "      <td>53.1000</td>\n",
       "      <td>S</td>\n",
       "      <td>First</td>\n",
       "      <td>woman</td>\n",
       "      <td>False</td>\n",
       "      <td>C</td>\n",
       "      <td>Southampton</td>\n",
       "      <td>yes</td>\n",
       "      <td>False</td>\n",
       "    </tr>\n",
       "    <tr>\n",
       "      <th>4</th>\n",
       "      <td>0</td>\n",
       "      <td>3</td>\n",
       "      <td>male</td>\n",
       "      <td>35.0</td>\n",
       "      <td>0</td>\n",
       "      <td>0</td>\n",
       "      <td>8.0500</td>\n",
       "      <td>S</td>\n",
       "      <td>Third</td>\n",
       "      <td>man</td>\n",
       "      <td>True</td>\n",
       "      <td>NaN</td>\n",
       "      <td>Southampton</td>\n",
       "      <td>no</td>\n",
       "      <td>True</td>\n",
       "    </tr>\n",
       "  </tbody>\n",
       "</table>\n",
       "</div>"
      ],
      "text/plain": [
       "   survived  pclass     sex   age  sibsp  parch     fare embarked  class  \\\n",
       "0         0       3    male  22.0      1      0   7.2500        S  Third   \n",
       "1         1       1  female  38.0      1      0  71.2833        C  First   \n",
       "2         1       3  female  26.0      0      0   7.9250        S  Third   \n",
       "3         1       1  female  35.0      1      0  53.1000        S  First   \n",
       "4         0       3    male  35.0      0      0   8.0500        S  Third   \n",
       "\n",
       "     who  adult_male deck  embark_town alive  alone  \n",
       "0    man        True  NaN  Southampton    no  False  \n",
       "1  woman       False    C    Cherbourg   yes  False  \n",
       "2  woman       False  NaN  Southampton   yes   True  \n",
       "3  woman       False    C  Southampton   yes  False  \n",
       "4    man        True  NaN  Southampton    no   True  "
      ]
     },
     "execution_count": 3,
     "metadata": {},
     "output_type": "execute_result"
    }
   ],
   "source": [
    "df.head()"
   ]
  },
  {
   "cell_type": "code",
   "execution_count": 4,
   "id": "c4ee3ca1-458d-4f2e-9b15-3fc2c8020e59",
   "metadata": {},
   "outputs": [],
   "source": [
    "# first pass the column which is to be encoded and then the target column\n",
    "# get the mean and convert it to a dictionary\n",
    "mean_fare= df.groupby('sex')['fare'].mean().to_dict()\n",
    "mean_fare1= df.groupby('class')['fare'].mean().to_dict()"
   ]
  },
  {
   "cell_type": "code",
   "execution_count": 5,
   "id": "07df0f93-2698-4173-9c5e-569564ffcd2e",
   "metadata": {},
   "outputs": [],
   "source": [
    "# Create a DataFrame for the encoded values\n",
    "df1=pd.DataFrame({'sex_encoded': df['sex'].map(mean_fare),'class_encoded': df['class'].map(mean_fare1)})"
   ]
  },
  {
   "cell_type": "code",
   "execution_count": 6,
   "id": "7875f18c-b2e6-4d4d-98d9-25f20e009f81",
   "metadata": {},
   "outputs": [
    {
     "data": {
      "text/html": [
       "<div>\n",
       "<style scoped>\n",
       "    .dataframe tbody tr th:only-of-type {\n",
       "        vertical-align: middle;\n",
       "    }\n",
       "\n",
       "    .dataframe tbody tr th {\n",
       "        vertical-align: top;\n",
       "    }\n",
       "\n",
       "    .dataframe thead th {\n",
       "        text-align: right;\n",
       "    }\n",
       "</style>\n",
       "<table border=\"1\" class=\"dataframe\">\n",
       "  <thead>\n",
       "    <tr style=\"text-align: right;\">\n",
       "      <th></th>\n",
       "      <th>sex_encoded</th>\n",
       "      <th>class_encoded</th>\n",
       "    </tr>\n",
       "  </thead>\n",
       "  <tbody>\n",
       "    <tr>\n",
       "      <th>0</th>\n",
       "      <td>25.523893</td>\n",
       "      <td>13.675550</td>\n",
       "    </tr>\n",
       "    <tr>\n",
       "      <th>1</th>\n",
       "      <td>44.479818</td>\n",
       "      <td>84.154687</td>\n",
       "    </tr>\n",
       "    <tr>\n",
       "      <th>2</th>\n",
       "      <td>44.479818</td>\n",
       "      <td>13.675550</td>\n",
       "    </tr>\n",
       "    <tr>\n",
       "      <th>3</th>\n",
       "      <td>44.479818</td>\n",
       "      <td>84.154687</td>\n",
       "    </tr>\n",
       "    <tr>\n",
       "      <th>4</th>\n",
       "      <td>25.523893</td>\n",
       "      <td>13.675550</td>\n",
       "    </tr>\n",
       "  </tbody>\n",
       "</table>\n",
       "</div>"
      ],
      "text/plain": [
       "   sex_encoded class_encoded\n",
       "0    25.523893     13.675550\n",
       "1    44.479818     84.154687\n",
       "2    44.479818     13.675550\n",
       "3    44.479818     84.154687\n",
       "4    25.523893     13.675550"
      ]
     },
     "execution_count": 6,
     "metadata": {},
     "output_type": "execute_result"
    }
   ],
   "source": [
    "df1.head()"
   ]
  },
  {
   "cell_type": "markdown",
   "id": "aa0051d9-bde0-4623-b23c-3ef084238a88",
   "metadata": {},
   "source": [
    "### Q3. Define covariance and explain why it is important in statistical analysis. How is covariance calculated?"
   ]
  },
  {
   "cell_type": "markdown",
   "id": "904f4756-d5c4-44a4-a492-82637f0d7211",
   "metadata": {},
   "source": [
    " Covariance is a measure of how two variables change together. It is calculated by taking the average of the product of the deviations from the mean for each variable. Covariance can be positive, negative, or zero. Positive covariance indicates that the variables tend to move in the same direction, while negative covariance indicates that the variables tend to move in opposite directions. Zero covariance indicates that the variables are not related.\n",
    "\n",
    "Covariance is an important tool in statistical analysis because it can be used to identify relationships between variables. For example, if the covariance between two variables is positive, we can infer that the variables tend to move in the same direction. This information can be used to make predictions about the future values of one variable based on the known values of the other variable."
   ]
  },
  {
   "cell_type": "markdown",
   "id": "884ec0c7-84fd-43ff-8f5b-5c695783710e",
   "metadata": {},
   "source": [
    "Formula of Covariance:\n",
    "#### cov(x,y)= ( (xi-mean(x) (yi-mean(y) ) / (n-1)"
   ]
  },
  {
   "cell_type": "code",
   "execution_count": 7,
   "id": "9ab60240-1bf5-4f6a-96d5-bd0f7ac34177",
   "metadata": {},
   "outputs": [],
   "source": [
    "import seaborn as sns\n",
    "import numpy as np"
   ]
  },
  {
   "cell_type": "code",
   "execution_count": 8,
   "id": "0b187f85-3c9a-4688-aae6-ee88046ce94f",
   "metadata": {},
   "outputs": [],
   "source": [
    "df=sns.load_dataset('iris')"
   ]
  },
  {
   "cell_type": "code",
   "execution_count": 9,
   "id": "9bf23258-f44e-4ee5-b3df-d559fe3d9b07",
   "metadata": {},
   "outputs": [
    {
     "name": "stderr",
     "output_type": "stream",
     "text": [
      "/tmp/ipykernel_1246/1545644723.py:1: FutureWarning: The default value of numeric_only in DataFrame.cov is deprecated. In a future version, it will default to False. Select only valid columns or specify the value of numeric_only to silence this warning.\n",
      "  df.cov()\n"
     ]
    },
    {
     "data": {
      "text/html": [
       "<div>\n",
       "<style scoped>\n",
       "    .dataframe tbody tr th:only-of-type {\n",
       "        vertical-align: middle;\n",
       "    }\n",
       "\n",
       "    .dataframe tbody tr th {\n",
       "        vertical-align: top;\n",
       "    }\n",
       "\n",
       "    .dataframe thead th {\n",
       "        text-align: right;\n",
       "    }\n",
       "</style>\n",
       "<table border=\"1\" class=\"dataframe\">\n",
       "  <thead>\n",
       "    <tr style=\"text-align: right;\">\n",
       "      <th></th>\n",
       "      <th>sepal_length</th>\n",
       "      <th>sepal_width</th>\n",
       "      <th>petal_length</th>\n",
       "      <th>petal_width</th>\n",
       "    </tr>\n",
       "  </thead>\n",
       "  <tbody>\n",
       "    <tr>\n",
       "      <th>sepal_length</th>\n",
       "      <td>0.685694</td>\n",
       "      <td>-0.042434</td>\n",
       "      <td>1.274315</td>\n",
       "      <td>0.516271</td>\n",
       "    </tr>\n",
       "    <tr>\n",
       "      <th>sepal_width</th>\n",
       "      <td>-0.042434</td>\n",
       "      <td>0.189979</td>\n",
       "      <td>-0.329656</td>\n",
       "      <td>-0.121639</td>\n",
       "    </tr>\n",
       "    <tr>\n",
       "      <th>petal_length</th>\n",
       "      <td>1.274315</td>\n",
       "      <td>-0.329656</td>\n",
       "      <td>3.116278</td>\n",
       "      <td>1.295609</td>\n",
       "    </tr>\n",
       "    <tr>\n",
       "      <th>petal_width</th>\n",
       "      <td>0.516271</td>\n",
       "      <td>-0.121639</td>\n",
       "      <td>1.295609</td>\n",
       "      <td>0.581006</td>\n",
       "    </tr>\n",
       "  </tbody>\n",
       "</table>\n",
       "</div>"
      ],
      "text/plain": [
       "              sepal_length  sepal_width  petal_length  petal_width\n",
       "sepal_length      0.685694    -0.042434      1.274315     0.516271\n",
       "sepal_width      -0.042434     0.189979     -0.329656    -0.121639\n",
       "petal_length      1.274315    -0.329656      3.116278     1.295609\n",
       "petal_width       0.516271    -0.121639      1.295609     0.581006"
      ]
     },
     "execution_count": 9,
     "metadata": {},
     "output_type": "execute_result"
    }
   ],
   "source": [
    "df.cov()"
   ]
  },
  {
   "cell_type": "markdown",
   "id": "5660ffd7-98ac-4784-8a63-32388aa3fbad",
   "metadata": {},
   "source": [
    "### Q4. For a dataset with the following categorical variables: Color (red, green, blue), Size (small, medium, large), and Material (wood, metal, plastic), perform label encoding using Python's scikit-learn library. Show your code and explain the output."
   ]
  },
  {
   "cell_type": "code",
   "execution_count": 10,
   "id": "612621f9-b0fa-47da-93ff-0c90fa9cfe51",
   "metadata": {},
   "outputs": [],
   "source": [
    "import pandas as pd\n",
    "data=pd.DataFrame({'Color': ['red', 'green', 'blue'], 'Size': ['small', 'medium', 'large'], 'Material': ['wood', 'metal', 'plastic']})"
   ]
  },
  {
   "cell_type": "code",
   "execution_count": 11,
   "id": "a7dc2631-8e36-4c18-b291-e81e249dee30",
   "metadata": {},
   "outputs": [
    {
     "data": {
      "text/html": [
       "<div>\n",
       "<style scoped>\n",
       "    .dataframe tbody tr th:only-of-type {\n",
       "        vertical-align: middle;\n",
       "    }\n",
       "\n",
       "    .dataframe tbody tr th {\n",
       "        vertical-align: top;\n",
       "    }\n",
       "\n",
       "    .dataframe thead th {\n",
       "        text-align: right;\n",
       "    }\n",
       "</style>\n",
       "<table border=\"1\" class=\"dataframe\">\n",
       "  <thead>\n",
       "    <tr style=\"text-align: right;\">\n",
       "      <th></th>\n",
       "      <th>Color</th>\n",
       "      <th>Size</th>\n",
       "      <th>Material</th>\n",
       "    </tr>\n",
       "  </thead>\n",
       "  <tbody>\n",
       "    <tr>\n",
       "      <th>0</th>\n",
       "      <td>red</td>\n",
       "      <td>small</td>\n",
       "      <td>wood</td>\n",
       "    </tr>\n",
       "    <tr>\n",
       "      <th>1</th>\n",
       "      <td>green</td>\n",
       "      <td>medium</td>\n",
       "      <td>metal</td>\n",
       "    </tr>\n",
       "    <tr>\n",
       "      <th>2</th>\n",
       "      <td>blue</td>\n",
       "      <td>large</td>\n",
       "      <td>plastic</td>\n",
       "    </tr>\n",
       "  </tbody>\n",
       "</table>\n",
       "</div>"
      ],
      "text/plain": [
       "   Color    Size Material\n",
       "0    red   small     wood\n",
       "1  green  medium    metal\n",
       "2   blue   large  plastic"
      ]
     },
     "execution_count": 11,
     "metadata": {},
     "output_type": "execute_result"
    }
   ],
   "source": [
    "data"
   ]
  },
  {
   "cell_type": "code",
   "execution_count": 12,
   "id": "a8712fee-d161-4c8e-8b84-708601ba3c7b",
   "metadata": {},
   "outputs": [],
   "source": [
    "# Encoding Color\n",
    "from sklearn.preprocessing import OrdinalEncoder\n",
    "encoder=OrdinalEncoder()\n",
    "encoded=encoder.fit_transform(data[['Color']])\n",
    "data['Encoded Color']=encoded"
   ]
  },
  {
   "cell_type": "code",
   "execution_count": 13,
   "id": "cdd1c1d3-23aa-49e4-aaa7-ff67c735c075",
   "metadata": {},
   "outputs": [],
   "source": [
    "# Encoding Size\n",
    "from sklearn.preprocessing import OrdinalEncoder\n",
    "encoder= OrdinalEncoder(categories=[['small','medium','large']])\n",
    "encoded=encoder.fit_transform(data[['Size']])\n",
    "data['Encoded Size']=encoded"
   ]
  },
  {
   "cell_type": "code",
   "execution_count": 14,
   "id": "2f1d5c38-fbf2-41ac-8178-8206f9b65193",
   "metadata": {},
   "outputs": [],
   "source": [
    "# Encoding Material\n",
    "from sklearn.preprocessing import OneHotEncoder\n",
    "encoder= OneHotEncoder()\n",
    "encoded=encoder.fit_transform(data[['Material']])"
   ]
  },
  {
   "cell_type": "code",
   "execution_count": 15,
   "id": "0a2fb1d4-072f-4c54-9e23-9da29373ee12",
   "metadata": {},
   "outputs": [],
   "source": [
    "df1=pd.DataFrame(encoded.toarray(), columns=encoder.get_feature_names_out())\n",
    "encoded_data=pd.concat([data,df1],axis=1)"
   ]
  },
  {
   "cell_type": "code",
   "execution_count": 16,
   "id": "7c1c45d0-4f3f-4d2f-9530-98ac3f155ccb",
   "metadata": {},
   "outputs": [
    {
     "data": {
      "text/html": [
       "<div>\n",
       "<style scoped>\n",
       "    .dataframe tbody tr th:only-of-type {\n",
       "        vertical-align: middle;\n",
       "    }\n",
       "\n",
       "    .dataframe tbody tr th {\n",
       "        vertical-align: top;\n",
       "    }\n",
       "\n",
       "    .dataframe thead th {\n",
       "        text-align: right;\n",
       "    }\n",
       "</style>\n",
       "<table border=\"1\" class=\"dataframe\">\n",
       "  <thead>\n",
       "    <tr style=\"text-align: right;\">\n",
       "      <th></th>\n",
       "      <th>Color</th>\n",
       "      <th>Size</th>\n",
       "      <th>Material</th>\n",
       "      <th>Encoded Color</th>\n",
       "      <th>Encoded Size</th>\n",
       "      <th>Material_metal</th>\n",
       "      <th>Material_plastic</th>\n",
       "      <th>Material_wood</th>\n",
       "    </tr>\n",
       "  </thead>\n",
       "  <tbody>\n",
       "    <tr>\n",
       "      <th>0</th>\n",
       "      <td>red</td>\n",
       "      <td>small</td>\n",
       "      <td>wood</td>\n",
       "      <td>2.0</td>\n",
       "      <td>0.0</td>\n",
       "      <td>0.0</td>\n",
       "      <td>0.0</td>\n",
       "      <td>1.0</td>\n",
       "    </tr>\n",
       "    <tr>\n",
       "      <th>1</th>\n",
       "      <td>green</td>\n",
       "      <td>medium</td>\n",
       "      <td>metal</td>\n",
       "      <td>1.0</td>\n",
       "      <td>1.0</td>\n",
       "      <td>1.0</td>\n",
       "      <td>0.0</td>\n",
       "      <td>0.0</td>\n",
       "    </tr>\n",
       "    <tr>\n",
       "      <th>2</th>\n",
       "      <td>blue</td>\n",
       "      <td>large</td>\n",
       "      <td>plastic</td>\n",
       "      <td>0.0</td>\n",
       "      <td>2.0</td>\n",
       "      <td>0.0</td>\n",
       "      <td>1.0</td>\n",
       "      <td>0.0</td>\n",
       "    </tr>\n",
       "  </tbody>\n",
       "</table>\n",
       "</div>"
      ],
      "text/plain": [
       "   Color    Size Material  Encoded Color  Encoded Size  Material_metal  \\\n",
       "0    red   small     wood            2.0           0.0             0.0   \n",
       "1  green  medium    metal            1.0           1.0             1.0   \n",
       "2   blue   large  plastic            0.0           2.0             0.0   \n",
       "\n",
       "   Material_plastic  Material_wood  \n",
       "0               0.0            1.0  \n",
       "1               0.0            0.0  \n",
       "2               1.0            0.0  "
      ]
     },
     "execution_count": 16,
     "metadata": {},
     "output_type": "execute_result"
    }
   ],
   "source": [
    "encoded_data"
   ]
  },
  {
   "cell_type": "markdown",
   "id": "84476a57-d434-4b23-9c01-e71085eeed87",
   "metadata": {},
   "source": [
    "### Q5. Calculate the covariance matrix for the following variables in a dataset: Age, Income, and Education level. Interpret the results."
   ]
  },
  {
   "cell_type": "code",
   "execution_count": 17,
   "id": "b3f4b9a4-6bd6-4fb1-9e44-4760ef1fa020",
   "metadata": {},
   "outputs": [],
   "source": [
    "import pandas as pd\n",
    "import numpy as np\n",
    "import random\n",
    "\n",
    "\n",
    "np.random.seed(42)\n",
    "Age=np.random.randint(18,50,50)\n",
    "Income=np.random.randint(5000,500000,50)\n",
    "E =['Phd','Graduation','Post_Graduation','Diploma','Chartered Accountant','Doctor','Engineer','High school','ACCA','Data Scientist']\n",
    "Edu = random.choices(E, k=50)\n",
    "\n",
    "\n",
    "df=pd.DataFrame({'Age':Age,'Income':Income,'Edu_lvl':Edu})"
   ]
  },
  {
   "cell_type": "code",
   "execution_count": 18,
   "id": "8906cda3-33ec-4b42-8de1-54a12e139fe2",
   "metadata": {},
   "outputs": [],
   "source": [
    "\n",
    "from sklearn.preprocessing import OrdinalEncoder, LabelEncoder\n",
    "\n",
    "# Perform Ordinal Encoding\n",
    "ordinal_encoder = OrdinalEncoder()\n",
    "df['encoded_edu'] = ordinal_encoder.fit_transform(df[['Edu_lvl']])"
   ]
  },
  {
   "cell_type": "code",
   "execution_count": 19,
   "id": "fe5d46cf-34c0-47ba-abaa-26ed0cb1e0a0",
   "metadata": {},
   "outputs": [
    {
     "name": "stderr",
     "output_type": "stream",
     "text": [
      "/tmp/ipykernel_1246/1545644723.py:1: FutureWarning: The default value of numeric_only in DataFrame.cov is deprecated. In a future version, it will default to False. Select only valid columns or specify the value of numeric_only to silence this warning.\n",
      "  df.cov()\n"
     ]
    },
    {
     "data": {
      "text/html": [
       "<div>\n",
       "<style scoped>\n",
       "    .dataframe tbody tr th:only-of-type {\n",
       "        vertical-align: middle;\n",
       "    }\n",
       "\n",
       "    .dataframe tbody tr th {\n",
       "        vertical-align: top;\n",
       "    }\n",
       "\n",
       "    .dataframe thead th {\n",
       "        text-align: right;\n",
       "    }\n",
       "</style>\n",
       "<table border=\"1\" class=\"dataframe\">\n",
       "  <thead>\n",
       "    <tr style=\"text-align: right;\">\n",
       "      <th></th>\n",
       "      <th>Age</th>\n",
       "      <th>Income</th>\n",
       "      <th>encoded_edu</th>\n",
       "    </tr>\n",
       "  </thead>\n",
       "  <tbody>\n",
       "    <tr>\n",
       "      <th>Age</th>\n",
       "      <td>88.175102</td>\n",
       "      <td>3.110439e+05</td>\n",
       "      <td>-1.959184</td>\n",
       "    </tr>\n",
       "    <tr>\n",
       "      <th>Income</th>\n",
       "      <td>311043.925306</td>\n",
       "      <td>1.796653e+10</td>\n",
       "      <td>-21486.387755</td>\n",
       "    </tr>\n",
       "    <tr>\n",
       "      <th>encoded_edu</th>\n",
       "      <td>-1.959184</td>\n",
       "      <td>-2.148639e+04</td>\n",
       "      <td>7.102041</td>\n",
       "    </tr>\n",
       "  </tbody>\n",
       "</table>\n",
       "</div>"
      ],
      "text/plain": [
       "                       Age        Income   encoded_edu\n",
       "Age              88.175102  3.110439e+05     -1.959184\n",
       "Income       311043.925306  1.796653e+10 -21486.387755\n",
       "encoded_edu      -1.959184 -2.148639e+04      7.102041"
      ]
     },
     "execution_count": 19,
     "metadata": {},
     "output_type": "execute_result"
    }
   ],
   "source": [
    "df.cov()"
   ]
  },
  {
   "cell_type": "markdown",
   "id": "66e86b68-5bcf-4173-83de-6522f7c4e9c3",
   "metadata": {},
   "source": [
    "##### Covariance between 'Age' and 'Income':\n",
    "The covariance between 'Age' and 'Income' is 3.110439e+05. This positive covariance suggests that there is a tendency for the 'Income' values to increase as the 'Age' increases. However, the magnitude of the covariance value alone does not provide information about the strength or direction of the relationship.\n",
    "\n",
    "##### Covariance between 'Age' and 'encoded_edu':\n",
    "The covariance between 'Age' and 'encoded_edu' is 2.786122. This positive covariance indicates that there might be a tendency for certain education levels ('encoded_edu') to be associated with higher ages. However, since 'encoded_edu' is an ordinal encoding, it is important to note that the magnitude of the covariance does not directly reflect the strength or direction of the relationship.\n",
    "\n",
    "##### Covariance between 'Income' and 'encoded_edu': \n",
    "The covariance between 'Income' and 'encoded_edu' is 11297.631837. This positive covariance suggests that there might be a tendency for certain education levels ('encoded_edu') to be associated with higher incomes. Again, as 'encoded_edu' is an ordinal encoding, it is essential to consider additional analysis to understand the strength and direction of the relationship.\n",
    "\n"
   ]
  },
  {
   "cell_type": "markdown",
   "id": "354c6afa-682d-4f82-981f-25097841e075",
   "metadata": {},
   "source": [
    "### Q6. You are working on a machine learning project with a dataset containing several categorical variables, including \"Gender\" (Male/Female), \"Education Level\" (High School/Bachelor's/Master's/PhD), and \"Employment Status\" (Unemployed/Part-Time/Full-Time). Which encoding method would you use for each variable, and why?"
   ]
  },
  {
   "cell_type": "markdown",
   "id": "ca31c29c-f95e-448f-b273-7c28858a4a2e",
   "metadata": {},
   "source": [
    "* I would use OneHotEncoding for Gender.\n",
    "   As there are no ranks for the feature.\n",
    "\n",
    "\n",
    "* For Educational Level I would prefer Ordinal Encoding Because we can provide rank .\n",
    " \n",
    "       For example: High School< Bachelor's < Master's < PhD.\n",
    "   OneHotEncoding can also be used for Educational Levels if there is no Internal Hierarchy.\n",
    "\n",
    "\n",
    "* For Employment Status also Ordinal Encoding as we can consider that\n",
    "           \n",
    "        Unemployed < Part-Time < Full-Time.\n",
    "   OneHotEncoding can also be used for Employment Status if there is no Internal Hierarchy."
   ]
  },
  {
   "cell_type": "markdown",
   "id": "3bb76234-5fb6-485a-864d-7fb1e8bc068d",
   "metadata": {},
   "source": [
    "### Q7. You are analyzing a dataset with two continuous variables, \"Temperature\" and \"Humidity\", and two categorical variables, \"Weather Condition\" (Sunny/Cloudy/Rainy) and \"Wind Direction\" (North/South/ East/West). Calculate the covariance between each pair of variables and interpret the results."
   ]
  },
  {
   "cell_type": "code",
   "execution_count": 20,
   "id": "0c410af6-ce5d-47f1-a83e-ca5af28bd229",
   "metadata": {},
   "outputs": [],
   "source": [
    "import pandas as pd\n",
    "import numpy as np\n",
    "np.random.seed(42)\n",
    "\n",
    "\n",
    "Temperature = np.random.uniform(15,35,50)\n",
    "Humidity = np.random.uniform(30,80,50)\n",
    "\n",
    "Weather_Condition = np.random.choice(['Sunny', 'Cloudy', 'Rainy'], size=50)\n",
    "Wind_Direction = np.random.choice(['North', 'South', 'East', 'West'], size=50)"
   ]
  },
  {
   "cell_type": "code",
   "execution_count": 21,
   "id": "99469cba-fdf5-4fbf-a6df-a8e4de14274f",
   "metadata": {},
   "outputs": [],
   "source": [
    "df= pd.DataFrame({'Temprature':Temperature, 'Humidity':Humidity, 'Weather_Condition':Weather_Condition, 'Wind_Direction': Wind_Direction })"
   ]
  },
  {
   "cell_type": "code",
   "execution_count": 22,
   "id": "67b26387-6218-41b2-ba19-d15915a26e80",
   "metadata": {},
   "outputs": [
    {
     "data": {
      "text/html": [
       "<div>\n",
       "<style scoped>\n",
       "    .dataframe tbody tr th:only-of-type {\n",
       "        vertical-align: middle;\n",
       "    }\n",
       "\n",
       "    .dataframe tbody tr th {\n",
       "        vertical-align: top;\n",
       "    }\n",
       "\n",
       "    .dataframe thead th {\n",
       "        text-align: right;\n",
       "    }\n",
       "</style>\n",
       "<table border=\"1\" class=\"dataframe\">\n",
       "  <thead>\n",
       "    <tr style=\"text-align: right;\">\n",
       "      <th></th>\n",
       "      <th>Temprature</th>\n",
       "      <th>Humidity</th>\n",
       "      <th>Weather_Condition</th>\n",
       "      <th>Wind_Direction</th>\n",
       "    </tr>\n",
       "  </thead>\n",
       "  <tbody>\n",
       "    <tr>\n",
       "      <th>0</th>\n",
       "      <td>22.490802</td>\n",
       "      <td>78.479231</td>\n",
       "      <td>Rainy</td>\n",
       "      <td>West</td>\n",
       "    </tr>\n",
       "    <tr>\n",
       "      <th>1</th>\n",
       "      <td>34.014286</td>\n",
       "      <td>68.756641</td>\n",
       "      <td>Rainy</td>\n",
       "      <td>West</td>\n",
       "    </tr>\n",
       "    <tr>\n",
       "      <th>2</th>\n",
       "      <td>29.639879</td>\n",
       "      <td>76.974947</td>\n",
       "      <td>Sunny</td>\n",
       "      <td>East</td>\n",
       "    </tr>\n",
       "    <tr>\n",
       "      <th>3</th>\n",
       "      <td>26.973170</td>\n",
       "      <td>74.741368</td>\n",
       "      <td>Sunny</td>\n",
       "      <td>East</td>\n",
       "    </tr>\n",
       "    <tr>\n",
       "      <th>4</th>\n",
       "      <td>18.120373</td>\n",
       "      <td>59.894999</td>\n",
       "      <td>Cloudy</td>\n",
       "      <td>South</td>\n",
       "    </tr>\n",
       "  </tbody>\n",
       "</table>\n",
       "</div>"
      ],
      "text/plain": [
       "   Temprature   Humidity Weather_Condition Wind_Direction\n",
       "0   22.490802  78.479231             Rainy           West\n",
       "1   34.014286  68.756641             Rainy           West\n",
       "2   29.639879  76.974947             Sunny           East\n",
       "3   26.973170  74.741368             Sunny           East\n",
       "4   18.120373  59.894999            Cloudy          South"
      ]
     },
     "execution_count": 22,
     "metadata": {},
     "output_type": "execute_result"
    }
   ],
   "source": [
    "df.head()"
   ]
  },
  {
   "cell_type": "code",
   "execution_count": 23,
   "id": "31909d94-631b-459d-9af9-ab0b6ccbccfd",
   "metadata": {},
   "outputs": [],
   "source": [
    "from sklearn.preprocessing import OneHotEncoder\n",
    "encoder= OneHotEncoder()\n",
    "encoded = encoder.fit_transform(df[['Weather_Condition','Wind_Direction']])\n",
    "\n",
    "encoded_df = pd.DataFrame(encoded.toarray(), columns=encoder.get_feature_names_out())\n",
    "\n",
    "df = pd.concat([df, encoded_df], axis=1)"
   ]
  },
  {
   "cell_type": "code",
   "execution_count": 24,
   "id": "f83fb5d7-5d87-40a2-bb40-020ec388bb09",
   "metadata": {},
   "outputs": [],
   "source": [
    "df = df.drop(['Weather_Condition','Wind_Direction'],axis=1)"
   ]
  },
  {
   "cell_type": "code",
   "execution_count": 25,
   "id": "223c21c0-a88f-41df-87e9-2b1332dbbff6",
   "metadata": {},
   "outputs": [
    {
     "name": "stdout",
     "output_type": "stream",
     "text": [
      "   Temprature   Humidity  Weather_Condition_Cloudy  Weather_Condition_Rainy  \\\n",
      "0   22.490802  78.479231                       0.0                      1.0   \n",
      "1   34.014286  68.756641                       0.0                      1.0   \n",
      "2   29.639879  76.974947                       0.0                      0.0   \n",
      "3   26.973170  74.741368                       0.0                      0.0   \n",
      "4   18.120373  59.894999                       1.0                      0.0   \n",
      "\n",
      "   Weather_Condition_Sunny  Wind_Direction_East  Wind_Direction_North  \\\n",
      "0                      0.0                  0.0                   0.0   \n",
      "1                      0.0                  0.0                   0.0   \n",
      "2                      1.0                  1.0                   0.0   \n",
      "3                      1.0                  1.0                   0.0   \n",
      "4                      0.0                  0.0                   0.0   \n",
      "\n",
      "   Wind_Direction_South  Wind_Direction_West  \n",
      "0                   0.0                  1.0  \n",
      "1                   0.0                  1.0  \n",
      "2                   0.0                  0.0  \n",
      "3                   0.0                  0.0  \n",
      "4                   1.0                  0.0  \n"
     ]
    }
   ],
   "source": [
    "print(df.head())"
   ]
  },
  {
   "cell_type": "code",
   "execution_count": 26,
   "id": "ba50f52d-fcdf-4f15-a1a6-fb2fec1c1e66",
   "metadata": {},
   "outputs": [
    {
     "name": "stdout",
     "output_type": "stream",
     "text": [
      "                          Temprature    Humidity  Weather_Condition_Cloudy  \\\n",
      "Temprature                 33.381402    5.514328                 -0.300153   \n",
      "Humidity                    5.514328  235.379281                  0.516773   \n",
      "Weather_Condition_Cloudy   -0.300153    0.516773                  0.205714   \n",
      "Weather_Condition_Rainy     0.104616   -0.759486                 -0.097143   \n",
      "Weather_Condition_Sunny     0.195536    0.242713                 -0.108571   \n",
      "Wind_Direction_East         0.276332    1.742553                  0.044898   \n",
      "Wind_Direction_North        0.033275   -0.792571                 -0.027755   \n",
      "Wind_Direction_South        0.254679   -0.404967                  0.013061   \n",
      "Wind_Direction_West        -0.564286   -0.545014                 -0.030204   \n",
      "\n",
      "                          Weather_Condition_Rainy  Weather_Condition_Sunny  \\\n",
      "Temprature                               0.104616                 0.195536   \n",
      "Humidity                                -0.759486                 0.242713   \n",
      "Weather_Condition_Cloudy                -0.097143                -0.108571   \n",
      "Weather_Condition_Rainy                  0.228980                -0.131837   \n",
      "Weather_Condition_Sunny                 -0.131837                 0.240408   \n",
      "Wind_Direction_East                     -0.048980                 0.004082   \n",
      "Wind_Direction_North                    -0.022041                 0.049796   \n",
      "Wind_Direction_South                     0.018776                -0.031837   \n",
      "Wind_Direction_West                      0.052245                -0.022041   \n",
      "\n",
      "                          Wind_Direction_East  Wind_Direction_North  \\\n",
      "Temprature                           0.276332              0.033275   \n",
      "Humidity                             1.742553             -0.792571   \n",
      "Weather_Condition_Cloudy             0.044898             -0.027755   \n",
      "Weather_Condition_Rainy             -0.048980             -0.022041   \n",
      "Weather_Condition_Sunny              0.004082              0.049796   \n",
      "Wind_Direction_East                  0.163265             -0.048980   \n",
      "Wind_Direction_North                -0.048980              0.186122   \n",
      "Wind_Direction_South                -0.048980             -0.058776   \n",
      "Wind_Direction_West                 -0.065306             -0.078367   \n",
      "\n",
      "                          Wind_Direction_South  Wind_Direction_West  \n",
      "Temprature                            0.254679            -0.564286  \n",
      "Humidity                             -0.404967            -0.545014  \n",
      "Weather_Condition_Cloudy              0.013061            -0.030204  \n",
      "Weather_Condition_Rainy               0.018776             0.052245  \n",
      "Weather_Condition_Sunny              -0.031837            -0.022041  \n",
      "Wind_Direction_East                  -0.048980            -0.065306  \n",
      "Wind_Direction_North                 -0.058776            -0.078367  \n",
      "Wind_Direction_South                  0.186122            -0.078367  \n",
      "Wind_Direction_West                  -0.078367             0.222041  \n"
     ]
    }
   ],
   "source": [
    "print(df.cov())"
   ]
  },
  {
   "cell_type": "markdown",
   "id": "a7e545a9-d98b-4847-9f36-33845fe2c66f",
   "metadata": {},
   "source": [
    "#### Results:\n",
    "\n",
    "\n",
    "1. Temperature and Humidity: The covariance between these two continuous variables is 33.381402. It indicates a positive relationship, suggesting that as Temperature increases, Humidity tends to increase as well.\n",
    "\n",
    "2. Weather_Condition_Cloudy and Temperature: The covariance between Weather_Condition_Cloudy and Temperature is -0.300153. This negative value suggests an inverse relationship, implying that when the weather condition is cloudy, the temperature tends to be lower.\n",
    "\n",
    "3. Weather_Condition_Rainy and Humidity: The covariance between Weather_Condition_Rainy and Humidity is -0.759486. This negative value suggests an inverse relationship, indicating that when the weather condition is rainy, the humidity tends to be lower.\n",
    "\n",
    "4. Wind_Direction_South and Wind_Direction_East: The covariance between these two categorical variables is 0.013061. Since these variables are binary (0 or 1), their covariance represents how they co-occur. A positive covariance suggests that when Wind_Direction_South is present, Wind_Direction_East tends to be present as well.\n",
    "\n",
    "5. Wind_Direction_West and Wind_Direction_North: The covariance between these two categorical variables is -0.078367. Similarly, this negative covariance suggests that when Wind_Direction_West is present, Wind_Direction_North tends to be absent and vice versa.\n"
   ]
  },
  {
   "cell_type": "markdown",
   "id": "0db2f391-6612-4c9b-8177-d3e5b5a7611a",
   "metadata": {},
   "source": [
    "## The End"
   ]
  }
 ],
 "metadata": {
  "kernelspec": {
   "display_name": "Python 3 (ipykernel)",
   "language": "python",
   "name": "python3"
  },
  "language_info": {
   "codemirror_mode": {
    "name": "ipython",
    "version": 3
   },
   "file_extension": ".py",
   "mimetype": "text/x-python",
   "name": "python",
   "nbconvert_exporter": "python",
   "pygments_lexer": "ipython3",
   "version": "3.10.8"
  }
 },
 "nbformat": 4,
 "nbformat_minor": 5
}
